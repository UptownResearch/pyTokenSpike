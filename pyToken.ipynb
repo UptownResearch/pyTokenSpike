{
 "cells": [
  {
   "cell_type": "code",
   "execution_count": 135,
   "metadata": {},
   "outputs": [],
   "source": [
    "from web3 import Web3, HTTPProvider\n",
    "import json\n",
    "from decimal import Decimal\n",
    "import time \n",
    "import decimal\n",
    "math = decimal.Context()\n",
    "import numpy \n",
    "import random\n",
    "%matplotlib inline\n",
    "import matplotlib\n",
    "import pandas"
   ]
  },
  {
   "cell_type": "code",
   "execution_count": 5,
   "metadata": {},
   "outputs": [],
   "source": [
    "url = 'http://127.0.0.1:8545' \n",
    "w3 = Web3(Web3.HTTPProvider(url))"
   ]
  },
  {
   "cell_type": "code",
   "execution_count": 66,
   "metadata": {},
   "outputs": [],
   "source": [
    "import web3"
   ]
  },
  {
   "cell_type": "code",
   "execution_count": 69,
   "metadata": {},
   "outputs": [
    {
     "data": {
      "text/plain": [
       "10"
      ]
     },
     "execution_count": 69,
     "metadata": {},
     "output_type": "execute_result"
    }
   ],
   "source": [
    "web3.types.Wei(10)"
   ]
  },
  {
   "cell_type": "code",
   "execution_count": 2,
   "metadata": {},
   "outputs": [],
   "source": [
    "# Installing app\n",
    "# npm init\n",
    "# npm install --save-dev @nomiclabs/buidler\n",
    "# npx buidler\n",
    "# Follow instructions to create new project\n",
    "\n",
    "# When project is ready\n",
    "# Run npx buidler node\n",
    "\n",
    "# run the script (Learn more: https://buidler.dev/guides/scripts.html )\n",
    "# npx buidler --network localhost run scripts/pyTokenTest.js\n",
    "\n",
    "\n",
    "# use web3 to advance blocks/block time with ganache:\n",
    "# https://medium.com/fluidity/standing-the-time-of-test-b906fcc374a9"
   ]
  },
  {
   "cell_type": "code",
   "execution_count": 23,
   "metadata": {},
   "outputs": [],
   "source": [
    "#Collateral address: 0x5bcb88A0d20426e451332eE6C4324b0e663c50E0\n",
    "#Underlying address: 0x3521eF8AaB0323004A6dD8b03CE890F4Ea3A13f5\n",
    "#Oracle address: 0x53369fd4680FfE3DfF39Fc6DDa9CfbfD43daeA2E\n",
    "#pyToken address: 0xB00cC45B4a7d3e1FEE684cFc4417998A1c183e6d"
   ]
  },
  {
   "cell_type": "code",
   "execution_count": 24,
   "metadata": {},
   "outputs": [],
   "source": [
    "collateral_contract_address = '0x5bcb88A0d20426e451332eE6C4324b0e663c50E0'\n",
    "underlying_contract_address = '0x3521eF8AaB0323004A6dD8b03CE890F4Ea3A13f5'\n",
    "oracle_contract_address = '0x53369fd4680FfE3DfF39Fc6DDa9CfbfD43daeA2E'\n",
    "pyToken_contract_address = '0xB00cC45B4a7d3e1FEE684cFc4417998A1c183e6d'"
   ]
  },
  {
   "cell_type": "code",
   "execution_count": 25,
   "metadata": {},
   "outputs": [],
   "source": [
    "# get the contract abi from the contract-project directory '../buidlertest/artifacts/Greeter.json'\n",
    "with open('./dapp/artifacts/Collateral.json') as file:\n",
    "    abi_json = json.load(file)\n",
    "collateral_contract_abi = abi_json['abi']\n",
    "\n",
    "# create the contract object\n",
    "collateral = w3.eth.contract(address = Web3.toChecksumAddress(collateral_contract_address), \n",
    "                                          abi = collateral_contract_abi)"
   ]
  },
  {
   "cell_type": "code",
   "execution_count": 37,
   "metadata": {},
   "outputs": [],
   "source": [
    "accounts = w3.eth.accounts"
   ]
  },
  {
   "cell_type": "code",
   "execution_count": 38,
   "metadata": {},
   "outputs": [
    {
     "data": {
      "text/plain": [
       "HexBytes('0x7f4888f829782b00924534c9ff2e3dbaabbf5b2c4a9c2f27e534174d53cebdb0')"
      ]
     },
     "execution_count": 38,
     "metadata": {},
     "output_type": "execute_result"
    }
   ],
   "source": [
    "toMint = (100*10**18)\n",
    "collateral.functions.mint(toMint).transact({'from': accounts[0]})"
   ]
  },
  {
   "cell_type": "code",
   "execution_count": 39,
   "metadata": {},
   "outputs": [
    {
     "data": {
      "text/plain": [
       "100000000000000000000"
      ]
     },
     "execution_count": 39,
     "metadata": {},
     "output_type": "execute_result"
    }
   ],
   "source": [
    "collateral.functions.balanceOf(accounts[0]).call()"
   ]
  },
  {
   "cell_type": "code",
   "execution_count": 31,
   "metadata": {},
   "outputs": [],
   "source": [
    "with open('./dapp/artifacts/Underlying.json') as file:\n",
    "    abi_json = json.load(file)\n",
    "underlying_contract_abi = abi_json['abi']\n",
    "\n",
    "# create the contract object\n",
    "underlying = w3.eth.contract(address = Web3.toChecksumAddress(underlying_contract_address), \n",
    "                                          abi = underlying_contract_abi)"
   ]
  },
  {
   "cell_type": "code",
   "execution_count": 40,
   "metadata": {},
   "outputs": [
    {
     "data": {
      "text/plain": [
       "HexBytes('0xe80039017e1041fe82c6c327144a9f86a6176b468f68cf46c8d6f0c1d159620b')"
      ]
     },
     "execution_count": 40,
     "metadata": {},
     "output_type": "execute_result"
    }
   ],
   "source": [
    "toMint = (100*10**18)\n",
    "underlying.functions.mint(toMint).transact({'from': accounts[0]})"
   ]
  },
  {
   "cell_type": "code",
   "execution_count": 41,
   "metadata": {},
   "outputs": [],
   "source": [
    "with open('./dapp/artifacts/Oracle.json') as file:\n",
    "    abi_json = json.load(file)\n",
    "oracle_contract_abi = abi_json['abi']\n",
    "\n",
    "# create the contract object\n",
    "oracle = w3.eth.contract(address = Web3.toChecksumAddress(oracle_contract_address), \n",
    "                                          abi = oracle_contract_abi)"
   ]
  },
  {
   "cell_type": "code",
   "execution_count": 43,
   "metadata": {},
   "outputs": [
    {
     "data": {
      "text/plain": [
       "HexBytes('0x77512624332145d5b6630ecc0136dd60e08f0ffd7b36f0a1083fa0b79660e7a0')"
      ]
     },
     "execution_count": 43,
     "metadata": {},
     "output_type": "execute_result"
    }
   ],
   "source": [
    "price = (2*10**18)\n",
    "oracle.functions.updatePrice(price).transact({'from': accounts[0]})"
   ]
  },
  {
   "cell_type": "code",
   "execution_count": 46,
   "metadata": {},
   "outputs": [],
   "source": [
    "with open('./dapp/artifacts/pyToken.json') as file:\n",
    "    abi_json = json.load(file)\n",
    "pytoken_contract_abi = abi_json['abi']\n",
    "\n",
    "# create the contract object\n",
    "pytoken = w3.eth.contract(address = Web3.toChecksumAddress(pyToken_contract_address), \n",
    "                                          abi = pytoken_contract_abi)"
   ]
  },
  {
   "cell_type": "code",
   "execution_count": 47,
   "metadata": {},
   "outputs": [
    {
     "data": {
      "text/plain": [
       "300000000000000000"
      ]
     },
     "execution_count": 47,
     "metadata": {},
     "output_type": "execute_result"
    }
   ],
   "source": [
    "pytoken.functions.reservesTarget().call()"
   ]
  },
  {
   "cell_type": "markdown",
   "metadata": {},
   "source": [
    "## Block and time updates"
   ]
  },
  {
   "cell_type": "code",
   "execution_count": 92,
   "metadata": {},
   "outputs": [
    {
     "data": {
      "text/plain": [
       "38"
      ]
     },
     "execution_count": 92,
     "metadata": {},
     "output_type": "execute_result"
    }
   ],
   "source": [
    "w3.eth.blockNumber"
   ]
  },
  {
   "cell_type": "code",
   "execution_count": 115,
   "metadata": {},
   "outputs": [],
   "source": [
    "def getBlockTimestamp():\n",
    "    return w3.eth.getBlock(w3.eth.blockNumber).timestamp\n",
    "\n",
    "def advanceBlock():\n",
    "    w3.provider.make_request('evm_mine', [])\n",
    "    \n",
    "def advanceTime(seconds):\n",
    "    w3.provider.make_request('evm_increaseTime', [seconds])\n",
    "    \n",
    "def takeSnapshot():\n",
    "    return w3.provider.make_request('evm_snapshot', [])['result']\n",
    "\n",
    "def revertToSnapShot(snapshot):\n",
    "    return w3.provider.make_request('evm_revert', [snapshot])['result']\n",
    "\n",
    "def getBlockNumber():\n",
    "    return w3.eth.blockNumber"
   ]
  },
  {
   "cell_type": "code",
   "execution_count": 57,
   "metadata": {},
   "outputs": [],
   "source": []
  },
  {
   "cell_type": "markdown",
   "metadata": {},
   "source": [
    "## Interacting with the contract"
   ]
  },
  {
   "cell_type": "code",
   "execution_count": 123,
   "metadata": {},
   "outputs": [],
   "source": [
    "class Token:       \n",
    "    def __init__(self, _name, _contract):\n",
    "        self.balances = {}\n",
    "        self.totalSupply = 0\n",
    "        self._name = _name\n",
    "        self.contract = _contract\n",
    "    \n",
    "    def mint(self, address, amount):\n",
    "        self.contract.functions.mint(amount).transact({'from': address})\n",
    "    \n",
    "    def balanceOf(self, address):\n",
    "        return self.contract.functions.balanceOf(address).call()\n",
    "    \n",
    "    def name(self):\n",
    "        return self._name\n",
    "    \n",
    "    def transferFrom(self, sender, recipient, amount):\n",
    "        assert(amount >= 0)\n",
    "        return self.contract.functions.transfer(recipient, amount).transact({'from': sender})"
   ]
  },
  {
   "cell_type": "code",
   "execution_count": 124,
   "metadata": {},
   "outputs": [],
   "source": [
    "token = Token(\"collateral\", collateral)"
   ]
  },
  {
   "cell_type": "code",
   "execution_count": 127,
   "metadata": {},
   "outputs": [],
   "source": [
    "token.mint(accounts[3], 100*10**18)"
   ]
  },
  {
   "cell_type": "code",
   "execution_count": 128,
   "metadata": {},
   "outputs": [
    {
     "data": {
      "text/plain": [
       "300000000000000000000"
      ]
     },
     "execution_count": 128,
     "metadata": {},
     "output_type": "execute_result"
    }
   ],
   "source": [
    "token.balanceOf(accounts[3])"
   ]
  },
  {
   "cell_type": "code",
   "execution_count": 130,
   "metadata": {},
   "outputs": [
    {
     "data": {
      "text/plain": [
       "HexBytes('0x7a45b3887ad770573c38962e5f5f6991619aefb9acdbafffd7fe40b4f4db66de')"
      ]
     },
     "execution_count": 130,
     "metadata": {},
     "output_type": "execute_result"
    }
   ],
   "source": [
    "token.transferFrom(accounts[3],accounts[4], int(1.7234 * 10**18))"
   ]
  },
  {
   "cell_type": "code",
   "execution_count": 131,
   "metadata": {},
   "outputs": [
    {
     "data": {
      "text/plain": [
       "1723400000000000000"
      ]
     },
     "execution_count": 131,
     "metadata": {},
     "output_type": "execute_result"
    }
   ],
   "source": [
    "token.balanceOf(accounts[4])"
   ]
  },
  {
   "cell_type": "code",
   "execution_count": 132,
   "metadata": {},
   "outputs": [
    {
     "ename": "AttributeError",
     "evalue": "'list' object has no attribute 'create'",
     "output_type": "error",
     "traceback": [
      "\u001b[0;31m---------------------------------------------------------------------------\u001b[0m",
      "\u001b[0;31mAttributeError\u001b[0m                            Traceback (most recent call last)",
      "\u001b[0;32m<ipython-input-132-654a6449d353>\u001b[0m in \u001b[0;36m<module>\u001b[0;34m\u001b[0m\n\u001b[0;32m----> 1\u001b[0;31m \u001b[0mnewAccount\u001b[0m \u001b[0;34m=\u001b[0m \u001b[0mw3\u001b[0m\u001b[0;34m.\u001b[0m\u001b[0meth\u001b[0m\u001b[0;34m.\u001b[0m\u001b[0maccounts\u001b[0m\u001b[0;34m.\u001b[0m\u001b[0mcreate\u001b[0m\u001b[0;34m(\u001b[0m\u001b[0;34m)\u001b[0m\u001b[0;34m\u001b[0m\u001b[0;34m\u001b[0m\u001b[0m\n\u001b[0m",
      "\u001b[0;31mAttributeError\u001b[0m: 'list' object has no attribute 'create'"
     ]
    }
   ],
   "source": [
    "newAccount = w3.eth.accounts.create()"
   ]
  },
  {
   "cell_type": "code",
   "execution_count": null,
   "metadata": {},
   "outputs": [],
   "source": []
  },
  {
   "cell_type": "markdown",
   "metadata": {},
   "source": [
    "# pyToken contract"
   ]
  },
  {
   "cell_type": "code",
   "execution_count": null,
   "metadata": {},
   "outputs": [],
   "source": [
    "class pyToken ():\n",
    "    def __init__(self, _collateral, _underlying, _pyToken):  \n",
    "        self.underlying = _underlying\n",
    "        self.collateral = _collateral\n",
    "        self.pyToken = _pyToken\n",
    "    \n",
    "    #View functions\n",
    "    def yearlyDebtRate(self):\n",
    "        return math.power(self.debtRate, Decimal(31622400)) - 1\n",
    "    \n",
    "    def getTotalDebt(self):\n",
    "        pass\n",
    "    \n",
    "    def getCollateral(self, token, address):\n",
    "        pass\n",
    "    \n",
    "    def getDebt(self, token, address):\n",
    "        pass\n",
    "    \n",
    "    def debtInUnderlying(self, token, address):\n",
    "        pass\n",
    "    \n",
    "    def balanceOfUnderlying(self, address):\n",
    "        pass\n",
    "    \n",
    "    def yearlyRate(self):\n",
    "        rate = self.pytoken.functions.lastBlockInterest().call()\n",
    "        return math.power(rate, Decimal(31622400)) - 1\n",
    "    \n",
    "    def totalSupplyUnderlying(self):\n",
    "        pass\n",
    "    \n",
    "    def underlyingHeld(self):\n",
    "        return self.pytoken.functions.underlyingHeld().call()\n",
    "    \n",
    "    \n",
    "    #ERC-20\n",
    "    def transferUnderlying(self, sender, recipient, amount):\n",
    "        value = amount / self.rateAccumulator\n",
    "        return self.transferFrom(sender, recipient, value)\n",
    "    \n",
    "    # User Functions\n",
    "    \n",
    "    def mint(self, address, amount):\n",
    "        return pytoken.functions.mint(amount).transact({'from': address})\n",
    "    \n",
    "    def redeem(self, address, amount):\n",
    "        return pytoken.functions.redeem(amount).transact({'from': address})\n",
    "        \n",
    "    def mintInUnderlying(self, address, amount):\n",
    "        pytoken.functions.mint(amount).transact({'from': address})\n",
    "        return self.mint(address, amount/self.rateAccumulator)\n",
    "        \n",
    "    def burnInUnderlying(self, address, amount):\n",
    "        return self.burn(address, amount/self.rateAccumulator)\n",
    "    \n",
    "    def addCollateral(self, token, address, amount):\n",
    "        return pytoken.functions.addCollateral(address, amount).transact({'from': address})\n",
    "      \n",
    "    def withdrawCollateral(self, token, address, amount):\n",
    "        return pytoken.functions.withdrawCollateral(address, amount).transact({'from': address})\n",
    "    \n",
    "    # accrue for both debt and interest\n",
    "    def accrueInterest(self):\n",
    "        return pytoken.functions.accrueInterest().transact()\n",
    "    \n",
    "    def updateRates(self):\n",
    "        return pytoken.functions.updateRates().transact()\n",
    "    \n",
    "    # borrow against a particular tokens worth of collateral\n",
    "    def borrow(self, token, address, amount):\n",
    "         pass\n",
    "        \n",
    "    def maximumBorrow(self, token, address):\n",
    "        pass\n",
    "\n",
    "       \n",
    "    def liquidate(self, token, addressToLiquidate, LiquidatorAddress, amount):\n",
    "        pass\n",
    "        \n",
    "    # Position in a particular collateral token\n",
    "    def position(self, token, address):\n",
    "        pass\n",
    "    \n",
    "    def repay(self, token, address, amount):\n",
    "        pass\n"
   ]
  },
  {
   "cell_type": "code",
   "execution_count": null,
   "metadata": {},
   "outputs": [],
   "source": [
    "\n",
    "    \n",
    "\n",
    "\n",
    "\n"
   ]
  },
  {
   "cell_type": "code",
   "execution_count": null,
   "metadata": {},
   "outputs": [],
   "source": []
  },
  {
   "cell_type": "markdown",
   "metadata": {},
   "source": [
    "## Simulation"
   ]
  },
  {
   "cell_type": "code",
   "execution_count": null,
   "metadata": {},
   "outputs": [],
   "source": [
    "class blockchain:\n",
    "    \n",
    "    def __init__(self, _timestamp, _block):\n",
    "        self.timestamp = _timestamp\n",
    "        self.block = _block\n",
    "    \n",
    "    def incrementBlock(self):\n",
    "        advanceBlock()\n",
    "    \n",
    "    def updateTimestamp(self, _timestamp):\n",
    "        seconds = _timestamp - getBlockTimestamp()\n",
    "        advanceTime(seconds)\n",
    "        advanceBlock()\n",
    "    \n",
    "    def blockNumber():\n",
    "        return getBlockNumber()\n",
    "    \n",
    "    def now(self):\n",
    "        return getBlockTimestamp()"
   ]
  },
  {
   "cell_type": "code",
   "execution_count": 113,
   "metadata": {},
   "outputs": [
    {
     "data": {
      "text/plain": [
       "True"
      ]
     },
     "execution_count": 113,
     "metadata": {},
     "output_type": "execute_result"
    }
   ],
   "source": [
    "class Interface:\n",
    "    \n",
    "    def __init__(self, _chain : blockchain, _uTokenA : Token, _uTokenB : Token, _oracle, _pyA):\n",
    "        self.A = _uTokenA\n",
    "        self.B = _uTokenB\n",
    "        self.chain = _chain\n",
    "        self.oracle = _oracle\n",
    "        self.pyA = _pyA\n",
    "        \n",
    "    def updateInterestRates(self):\n",
    "        self.pyA.updateRates()\n",
    "        self.pyA.accrueInterest()\n",
    "    \n",
    "    def eachBlock(self):\n",
    "        self.chain.incrementBlock()\n",
    "        self.updateInterestRates()\n",
    "        \n"
   ]
  },
  {
   "cell_type": "code",
   "execution_count": null,
   "metadata": {},
   "outputs": [],
   "source": [
    "class Agent:\n",
    "    def __init__(self, _interface):\n",
    "        self.interface = _interface\n",
    "        self.address = numpy.random.randint(1,1000)\n",
    "        \n",
    "    def setup(self):\n",
    "        pass\n",
    "    \n",
    "    def performActions(self):\n",
    "        pass\n",
    "    \n",
    "    def shutdown(self):\n",
    "        pass"
   ]
  },
  {
   "cell_type": "code",
   "execution_count": null,
   "metadata": {},
   "outputs": [],
   "source": [
    "class YieldAgent(Agent):\n",
    "    def __init__(self, _interface):\n",
    "        super().__init__(_interface)\n",
    "        self.address = \"0xYA_HodlPY\" + str(self.address)\n",
    "        self.block = 0\n",
    "        \n",
    "    def setup(self):   \n",
    "        self.initialA = min(Decimal(round(numpy.random.lognormal(6, 1))), Decimal(1000))\n",
    "        self.interface.A.mint(self.address, Decimal(self.initialA))\n",
    "        self.lowerRate = Decimal(numpy.random.uniform(0,7) / 100)\n",
    "        self.upperRate = self.lowerRate + Decimal(numpy.random.uniform(0,5) / 100)\n",
    "    \n",
    "    def performActions(self):\n",
    "        if self.interface.pyA.yearlyRate() > self.upperRate:\n",
    "            self.HODL()\n",
    "        elif self.interface.pyA.yearlyRate() < self.lowerRate:\n",
    "            self.unHODL()\n",
    "            \n",
    "    def HODL(self):\n",
    "        self.block = self.interface.chain.blockNumber()\n",
    "        if self.interface.A.balanceOf(self.address) > 0:\n",
    "            aBalance = self.interface.A.balanceOf(self.address)\n",
    "            self.interface.pyA.mint(self.address, aBalance)\n",
    "            print(\"HODLing {} tokens at rate {}\".format(aBalance, round(self.upperRate, 4)))\n",
    "            \n",
    "    def unHODL(self):\n",
    "        if self.block - self.interface.chain.blockNumber() < 10:\n",
    "            return\n",
    "        amount = min(self.interface.pyA.balanceOfUnderlying(self.address), self.interface.pyA.underlyingHeld())\n",
    "        amount = amount*Decimal('0.1')\n",
    "        if amount > 0:\n",
    "            # let's only remove 10% at a time\n",
    "            self.interface.pyA.redeem(self.address, amount)\n",
    "            print(\"unHODLing {} tokens\".format(amount, round(self.lowerRate, 4)))\n",
    "            \n",
    "            "
   ]
  },
  {
   "cell_type": "code",
   "execution_count": 114,
   "metadata": {},
   "outputs": [
    {
     "data": {
      "text/plain": [
       "38"
      ]
     },
     "execution_count": 114,
     "metadata": {},
     "output_type": "execute_result"
    }
   ],
   "source": [
    "\n",
    "    \n",
    "\n",
    "\n",
    "# Borrow agents lever up on ETH collateral by selling pyTokens\n",
    "class BorrowAgent(Agent):\n",
    "    def __init__(self, _interface):\n",
    "        super().__init__(_interface)\n",
    "        self.address = \"0xBA_longETH\" + str(self.address)\n",
    "        \n",
    "    def setup(self):\n",
    "        self.initialETH = min(Decimal(round(numpy.random.lognormal(3, 1))), Decimal(100))\n",
    "        self.interface.eth.mint(self.address, Decimal(self.initialETH ))\n",
    "        ethReserve = self.initialETH * Decimal('0.1')\n",
    "        self.each = (self.initialETH - ethReserve)/2\n",
    "        self.interface.pyA.addCollateral(\"ETH\", self.address, self.each )\n",
    "        self.interface.pyB.addCollateral(\"ETH\", self.address, self.each )\n",
    "        price = self.interface.ethAOracle.getPriceInToken(self.interface.A)\n",
    "        self.desiredBorrow = Decimal('0.5')*self.interface.pyA.maximumBorrow(\"ETH\", self.address)\n",
    "        self.interface.A.mint(self.address, self.desiredBorrow*1000)\n",
    "        self.lowerRate = Decimal(numpy.random.uniform(0,10) / 100)\n",
    "        self.upperRate = self.lowerRate + Decimal(numpy.random.uniform(0,5) / 100)\n",
    "    \n",
    "    def performActions(self):\n",
    "        if self.interface.pyA.yearlyDebtRate() > self.upperRate:\n",
    "            self.unBorrow()\n",
    "        elif self.interface.pyA.yearlyDebtRate() < self.lowerRate:\n",
    "            self.borrow()\n",
    "        uAmount = min(self.interface.pyA.balanceOfUnderlying(self.address), self.interface.qxA.underlying)\n",
    "        if uAmount > Decimal('0.1'):\n",
    "            self.interface.qxA.redeem(self.address, uAmount*Decimal(.99))\n",
    "            print(\"Withdrew {} tokens at {}\".format(round(uAmount*Decimal(.99), 4), round(self.lowerRate, 4) ))\n",
    "            \n",
    "            \n",
    "    def borrow(self):\n",
    "        price = self.interface.ethAOracle.getPriceInToken(self.interface.A)\n",
    "        #if we've already mostly borrowed what we desire, let's stop\n",
    "        if self.interface.pyA.debtInUnderlying(\"ETH\", self.address) > Decimal('.99') * self.desiredBorrow:\n",
    "            return\n",
    "        #initiate borrow\n",
    "        borrowRatio = Decimal('0.5')\n",
    "        amount = self.interface.pyA.maximumBorrow(\"ETH\", self.address) - self.interface.pyA.debtInUnderlying(\"ETH\", self.address)\n",
    "        borrow = (amount * borrowRatio) / (self.interface.pyA.collateralizationRatio )\n",
    "        if borrow > Decimal('0.1'):\n",
    "            self.interface.pyA.borrow(\"ETH\", self.address, borrow)\n",
    "            print(\"Borrowed {} tokens at {}\".format(round(borrow, 4), round(self.lowerRate, 4) ))\n",
    "\n",
    "    \n",
    "    def unBorrow(self):\n",
    "        amount = Decimal('0.95') * self.interface.pyA.debtInUnderlying(\"ETH\", self.address)\n",
    "        #funds = self.interface.A.balanceOf(self.address)\n",
    "        #toUnBorrow = min(debt, funds)\n",
    "        if amount > Decimal('0.1'):\n",
    "            try:\n",
    "                self.interface.qxA.mint(self.address, amount*Decimal(1.01))\n",
    "                self.interface.pyA.repay(\"ETH\", self.address, amount)\n",
    "                print(\"unBorrowed {} tokens at {}\".format(round(amount, 4), round(self.upperRate, 4) ))\n",
    "            except Exception as e: \n",
    "                print(\"failed to unborrow. amount:{} underlying balance: {} pyTokens: {} \".format(amount, self.interface.A.balanceOf(self.address), self.interface.pyA.balanceOfUnderlying(self.address)))\n",
    "                raise e\n",
    "    \n"
   ]
  },
  {
   "cell_type": "code",
   "execution_count": null,
   "metadata": {},
   "outputs": [],
   "source": []
  }
 ],
 "metadata": {
  "kernelspec": {
   "display_name": "Python 3",
   "language": "python",
   "name": "python3"
  },
  "language_info": {
   "codemirror_mode": {
    "name": "ipython",
    "version": 3
   },
   "file_extension": ".py",
   "mimetype": "text/x-python",
   "name": "python",
   "nbconvert_exporter": "python",
   "pygments_lexer": "ipython3",
   "version": "3.7.6"
  }
 },
 "nbformat": 4,
 "nbformat_minor": 4
}
