{
 "cells": [
  {
   "cell_type": "code",
   "execution_count": 1,
   "metadata": {},
   "outputs": [],
   "source": [
    "from web3 import Web3, HTTPProvider\n",
    "import json\n",
    "from decimal import Decimal\n",
    "import time \n",
    "import decimal\n",
    "math = decimal.Context()\n",
    "import numpy \n",
    "import random\n",
    "%matplotlib inline\n",
    "import matplotlib\n",
    "import pandas"
   ]
  },
  {
   "cell_type": "code",
   "execution_count": 2,
   "metadata": {},
   "outputs": [],
   "source": [
    "url = 'http://127.0.0.1:8545' \n",
    "w3 = Web3(Web3.HTTPProvider(url))"
   ]
  },
  {
   "cell_type": "code",
   "execution_count": 3,
   "metadata": {},
   "outputs": [],
   "source": [
    "import web3"
   ]
  },
  {
   "cell_type": "code",
   "execution_count": 4,
   "metadata": {},
   "outputs": [
    {
     "data": {
      "text/plain": [
       "10"
      ]
     },
     "execution_count": 4,
     "metadata": {},
     "output_type": "execute_result"
    }
   ],
   "source": [
    "web3.types.Wei(10)"
   ]
  },
  {
   "cell_type": "code",
   "execution_count": 2,
   "metadata": {},
   "outputs": [],
   "source": [
    "# Installing app\n",
    "# npm init\n",
    "# npm install --save-dev @nomiclabs/buidler\n",
    "# npx buidler\n",
    "# Follow instructions to create new project\n",
    "\n",
    "# When project is ready\n",
    "# Run: \n",
    "# npx buidler node\n",
    "\n",
    "# run the script (Learn more: https://buidler.dev/guides/scripts.html )\n",
    "# npx buidler --network localhost run scripts/pyTokenTest.js\n",
    "\n",
    "\n",
    "# use web3 to advance blocks/block time with ganache:\n",
    "# https://medium.com/fluidity/standing-the-time-of-test-b906fcc374a9"
   ]
  },
  {
   "cell_type": "code",
   "execution_count": 5,
   "metadata": {},
   "outputs": [],
   "source": [
    "# Get contract addresses from ./artifacts/addresses.json\n",
    "with open('./dapp/artifacts/addresses.json') as file:\n",
    "    addresses = json.load(file)"
   ]
  },
  {
   "cell_type": "code",
   "execution_count": 9,
   "metadata": {},
   "outputs": [
    {
     "data": {
      "text/plain": [
       "{'collateral': '0x52d3b94181f8654db2530b0fEe1B19173f519C52',\n",
       " 'underlying': '0xd15468525c35BDBC1eD8F2e09A00F8a173437f2f',\n",
       " 'oracle': '0x7e35Eaf7e8FBd7887ad538D4A38Df5BbD073814a',\n",
       " 'pytoken': '0x5bcb88A0d20426e451332eE6C4324b0e663c50E0'}"
      ]
     },
     "execution_count": 9,
     "metadata": {},
     "output_type": "execute_result"
    }
   ],
   "source": [
    "addresses"
   ]
  },
  {
   "cell_type": "code",
   "execution_count": 8,
   "metadata": {},
   "outputs": [],
   "source": [
    "# get the contract abi from the contract-project directory '../buidlertest/artifacts/Greeter.json'\n",
    "with open('./dapp/artifacts/Collateral.json') as file:\n",
    "    abi_json = json.load(file)\n",
    "collateral_contract_abi = abi_json['abi']\n",
    "\n",
    "# create the contract object\n",
    "collateral = w3.eth.contract(address = Web3.toChecksumAddress(addresses['collateral']), \n",
    "                                          abi = collateral_contract_abi)"
   ]
  },
  {
   "cell_type": "code",
   "execution_count": 11,
   "metadata": {},
   "outputs": [],
   "source": [
    "accounts = w3.eth.accounts"
   ]
  },
  {
   "cell_type": "code",
   "execution_count": 12,
   "metadata": {},
   "outputs": [
    {
     "data": {
      "text/plain": [
       "HexBytes('0x09d01c0d0d7d98564c3784a1fc6cf2014d288495157797d520d17904e4e83b69')"
      ]
     },
     "execution_count": 12,
     "metadata": {},
     "output_type": "execute_result"
    }
   ],
   "source": [
    "toMint = (100*10**18)\n",
    "collateral.functions.mint(toMint).transact({'from': accounts[0]})"
   ]
  },
  {
   "cell_type": "code",
   "execution_count": 13,
   "metadata": {},
   "outputs": [
    {
     "data": {
      "text/plain": [
       "100000000000000000000"
      ]
     },
     "execution_count": 13,
     "metadata": {},
     "output_type": "execute_result"
    }
   ],
   "source": [
    "collateral.functions.balanceOf(accounts[0]).call()"
   ]
  },
  {
   "cell_type": "code",
   "execution_count": 10,
   "metadata": {},
   "outputs": [],
   "source": [
    "with open('./dapp/artifacts/Underlying.json') as file:\n",
    "    abi_json = json.load(file)\n",
    "underlying_contract_abi = abi_json['abi']\n",
    "\n",
    "# create the contract object\n",
    "underlying = w3.eth.contract(address = Web3.toChecksumAddress(addresses['underlying']), \n",
    "                                          abi = underlying_contract_abi)"
   ]
  },
  {
   "cell_type": "code",
   "execution_count": 14,
   "metadata": {},
   "outputs": [
    {
     "data": {
      "text/plain": [
       "HexBytes('0xcfe5d42c2e1fb35e77c5864ef7f4772886bd09f3ddaa13f871853587f0ca5d26')"
      ]
     },
     "execution_count": 14,
     "metadata": {},
     "output_type": "execute_result"
    }
   ],
   "source": [
    "toMint = (100*10**18)\n",
    "underlying.functions.mint(toMint).transact({'from': accounts[0]})"
   ]
  },
  {
   "cell_type": "code",
   "execution_count": 15,
   "metadata": {},
   "outputs": [],
   "source": [
    "with open('./dapp/artifacts/Oracle.json') as file:\n",
    "    abi_json = json.load(file)\n",
    "oracle_contract_abi = abi_json['abi']\n",
    "\n",
    "# create the contract object\n",
    "oracle = w3.eth.contract(address = Web3.toChecksumAddress(addresses['oracle']), \n",
    "                                          abi = oracle_contract_abi)"
   ]
  },
  {
   "cell_type": "code",
   "execution_count": 16,
   "metadata": {},
   "outputs": [
    {
     "data": {
      "text/plain": [
       "HexBytes('0x48fecf760dcd9f32b76af9d28b61244404bdc125e6b5f349b6d5a8663da27116')"
      ]
     },
     "execution_count": 16,
     "metadata": {},
     "output_type": "execute_result"
    }
   ],
   "source": [
    "price = (2*10**18)\n",
    "oracle.functions.updatePrice(price).transact({'from': accounts[0]})"
   ]
  },
  {
   "cell_type": "code",
   "execution_count": 18,
   "metadata": {},
   "outputs": [],
   "source": [
    "with open('./dapp/artifacts/pyToken.json') as file:\n",
    "    abi_json = json.load(file)\n",
    "pytoken_contract_abi = abi_json['abi']\n",
    "\n",
    "# create the contract object\n",
    "pytoken = w3.eth.contract(address = Web3.toChecksumAddress(addresses['pytoken']), \n",
    "                                          abi = pytoken_contract_abi)"
   ]
  },
  {
   "cell_type": "code",
   "execution_count": 19,
   "metadata": {},
   "outputs": [
    {
     "data": {
      "text/plain": [
       "300000000000000000"
      ]
     },
     "execution_count": 19,
     "metadata": {},
     "output_type": "execute_result"
    }
   ],
   "source": [
    "pytoken.functions.reservesTarget().call()"
   ]
  },
  {
   "cell_type": "markdown",
   "metadata": {},
   "source": [
    "## Block and time updates"
   ]
  },
  {
   "cell_type": "code",
   "execution_count": 20,
   "metadata": {},
   "outputs": [
    {
     "data": {
      "text/plain": [
       "23"
      ]
     },
     "execution_count": 20,
     "metadata": {},
     "output_type": "execute_result"
    }
   ],
   "source": [
    "w3.eth.blockNumber"
   ]
  },
  {
   "cell_type": "code",
   "execution_count": 21,
   "metadata": {},
   "outputs": [],
   "source": [
    "def getBlockTimestamp():\n",
    "    return w3.eth.getBlock(w3.eth.blockNumber).timestamp\n",
    "\n",
    "def advanceBlock():\n",
    "    w3.provider.make_request('evm_mine', [])\n",
    "    \n",
    "def advanceTime(seconds):\n",
    "    w3.provider.make_request('evm_increaseTime', [seconds])\n",
    "    \n",
    "def takeSnapshot():\n",
    "    return w3.provider.make_request('evm_snapshot', [])['result']\n",
    "\n",
    "def revertToSnapShot(snapshot):\n",
    "    return w3.provider.make_request('evm_revert', [snapshot])['result']\n",
    "\n",
    "def getBlockNumber():\n",
    "    return w3.eth.blockNumber"
   ]
  },
  {
   "cell_type": "code",
   "execution_count": null,
   "metadata": {},
   "outputs": [],
   "source": []
  },
  {
   "cell_type": "markdown",
   "metadata": {},
   "source": [
    "## Interacting with the contract"
   ]
  },
  {
   "cell_type": "code",
   "execution_count": 22,
   "metadata": {},
   "outputs": [],
   "source": [
    "class Token:       \n",
    "    def __init__(self, _name, _contract):\n",
    "        self.balances = {}\n",
    "        self.totalSupply = 0\n",
    "        self._name = _name\n",
    "        self.contract = _contract\n",
    "    \n",
    "    def mint(self, address, amount):\n",
    "        self.contract.functions.mint(amount).transact({'from': address})\n",
    "    \n",
    "    def balanceOf(self, address):\n",
    "        return self.contract.functions.balanceOf(address).call()\n",
    "    \n",
    "    def name(self):\n",
    "        return self._name\n",
    "    \n",
    "    def allowance(self, owner, spender):\n",
    "        return self.contract.functions.allowance( owner, spender).call()\n",
    "    \n",
    "    def approve(self, address, spender, amount):\n",
    "        return self.contract.functions.approve(spender, amount).transact({'from': address})\n",
    "    \n",
    "    def transferFrom(self, sender, recipient, amount):\n",
    "        assert(amount >= 0)\n",
    "        return self.contract.functions.transfer(recipient, amount).transact({'from': sender})"
   ]
  },
  {
   "cell_type": "code",
   "execution_count": 23,
   "metadata": {},
   "outputs": [],
   "source": [
    "ctoken = Token(\"collateral\", collateral)"
   ]
  },
  {
   "cell_type": "code",
   "execution_count": 24,
   "metadata": {},
   "outputs": [],
   "source": [
    "ctoken.mint(accounts[3], 100*10**18)"
   ]
  },
  {
   "cell_type": "code",
   "execution_count": 25,
   "metadata": {},
   "outputs": [
    {
     "data": {
      "text/plain": [
       "100000000000000000000"
      ]
     },
     "execution_count": 25,
     "metadata": {},
     "output_type": "execute_result"
    }
   ],
   "source": [
    "ctoken.balanceOf(accounts[3])"
   ]
  },
  {
   "cell_type": "code",
   "execution_count": 26,
   "metadata": {},
   "outputs": [
    {
     "data": {
      "text/plain": [
       "HexBytes('0x91578d0cad56e3d1cdd0d8f44f10b0ef109762342b87b526536f8d2e6ac7696b')"
      ]
     },
     "execution_count": 26,
     "metadata": {},
     "output_type": "execute_result"
    }
   ],
   "source": [
    "ctoken.transferFrom(accounts[3],accounts[4], int(1.7234 * 10**18))"
   ]
  },
  {
   "cell_type": "code",
   "execution_count": 27,
   "metadata": {},
   "outputs": [
    {
     "data": {
      "text/plain": [
       "1723400000000000000"
      ]
     },
     "execution_count": 27,
     "metadata": {},
     "output_type": "execute_result"
    }
   ],
   "source": [
    "ctoken.balanceOf(accounts[4])"
   ]
  },
  {
   "cell_type": "code",
   "execution_count": 28,
   "metadata": {},
   "outputs": [],
   "source": [
    "utoken = Token(\"underlying\", underlying)"
   ]
  },
  {
   "cell_type": "code",
   "execution_count": 29,
   "metadata": {},
   "outputs": [],
   "source": [
    "utoken.mint(accounts[4], 100*10**18)"
   ]
  },
  {
   "cell_type": "code",
   "execution_count": 30,
   "metadata": {},
   "outputs": [
    {
     "data": {
      "text/plain": [
       "100000000000000000000"
      ]
     },
     "execution_count": 30,
     "metadata": {},
     "output_type": "execute_result"
    }
   ],
   "source": [
    "utoken.balanceOf(accounts[4])"
   ]
  },
  {
   "cell_type": "code",
   "execution_count": 32,
   "metadata": {},
   "outputs": [
    {
     "data": {
      "text/plain": [
       "0"
      ]
     },
     "execution_count": 32,
     "metadata": {},
     "output_type": "execute_result"
    }
   ],
   "source": [
    "utoken.allowance(accounts[4], addresses['pytoken'])"
   ]
  },
  {
   "cell_type": "markdown",
   "metadata": {},
   "source": [
    "## Oracle"
   ]
  },
  {
   "cell_type": "code",
   "execution_count": 33,
   "metadata": {},
   "outputs": [],
   "source": [
    "class Oracle:       \n",
    "    def __init__(self, _oracle):\n",
    "        self.oracle = _oracle\n",
    "      \n",
    "    def updatePrice(self, newPrice):\n",
    "        self.oracle.functions.updatePrice(newPrice).call()\n",
    "        \n",
    "    def endTWAP(self ):\n",
    "        return self.oracle.functions.endTWAP().call()\n"
   ]
  },
  {
   "cell_type": "code",
   "execution_count": 34,
   "metadata": {},
   "outputs": [],
   "source": [
    "pyoracle = Oracle(oracle)"
   ]
  },
  {
   "cell_type": "code",
   "execution_count": 35,
   "metadata": {},
   "outputs": [
    {
     "data": {
      "text/plain": [
       "2000000000000000000"
      ]
     },
     "execution_count": 35,
     "metadata": {},
     "output_type": "execute_result"
    }
   ],
   "source": [
    "pyoracle.endTWAP()"
   ]
  },
  {
   "cell_type": "code",
   "execution_count": null,
   "metadata": {},
   "outputs": [],
   "source": []
  },
  {
   "cell_type": "markdown",
   "metadata": {},
   "source": [
    "# pyToken contract"
   ]
  },
  {
   "cell_type": "code",
   "execution_count": 134,
   "metadata": {},
   "outputs": [],
   "source": [
    "class pyToken():\n",
    "    def __init__(self,  _pyToken):  \n",
    "        self.pytoken = _pyToken\n",
    "    \n",
    "    #View functions\n",
    "    def toDecimal(self, value, length=Decimal(10**18)):\n",
    "        return Decimal(value) / length\n",
    "    \n",
    "    \n",
    "    def yearlyDebtRate(self):\n",
    "        rate = self.toDecimal(self.pytoken.functions.debtRate().call(), Decimal(10**27))\n",
    "        return math.power(rate, Decimal(31622400)) - 1\n",
    "    \n",
    "    def balanceOf(self, address):\n",
    "        return self.pytoken.functions.balanceOf(address).call()\n",
    "    \n",
    "    def collateralizationRatio(self):\n",
    "        return self.pytoken.functions.collateralizationRatio().call()\n",
    "    \n",
    "    def getTotalDebt(self):\n",
    "        return self.pytoken.functions.getTotalDebt().call()\n",
    "    \n",
    "    def getReserveRatio(self):\n",
    "        return self.pytoken.functions.getReserveRatio().call()\n",
    "    \n",
    "    def getCollateral(self, token, address):\n",
    "        pass\n",
    "    \n",
    "    def getDebt(self, token, address):\n",
    "        pass\n",
    "    \n",
    "    def debtInUnderlying(self, token, address):\n",
    "        return self.pytoken.functions.debtInUnderlying(address).call()\n",
    "    \n",
    "    def balanceOfUnderlying(self, address):\n",
    "        return (self.pytoken.functions.balanceOf(address).call() * self.pytoken.functions.rateAccumulator().call())/(10**45)\n",
    "    \n",
    "    def yearlyRate(self):\n",
    "        rate = self.toDecimal(self.pytoken.functions.lastBlockInterest().call(), Decimal(10**27))\n",
    "        return math.power(rate, Decimal(31622400)) - 1\n",
    "    \n",
    "    def totalSupplyUnderlying(self):\n",
    "        pass\n",
    "    \n",
    "    def totalSupply(self):\n",
    "        return self.pytoken.functions.totalSupply().call()\n",
    "    \n",
    "    def underlyingHeld(self):\n",
    "        return self.pytoken.functions.underlyingHeld().call()\n",
    "    \n",
    "    def totalFeeIncome(self):\n",
    "        return self.pytoken.functions.totalFeeIncome().call()\n",
    "    \n",
    "    \n",
    "    #ERC-20\n",
    "    def transferUnderlying(self, sender, recipient, amount):\n",
    "        pass\n",
    "    \n",
    "    # User Functions\n",
    "    \n",
    "    def mint(self, address, amount):\n",
    "        return pytoken.functions.mint(amount).transact({'from': address})\n",
    "    \n",
    "    def redeem(self, address, amount):\n",
    "        return pytoken.functions.redeem(amount).transact({'from': address})\n",
    "        \n",
    "    def mintInUnderlying(self, address, amount):\n",
    "        pytoken.functions.mint(amount).transact({'from': address})\n",
    "        return self.mint(address, amount/self.rateAccumulator)\n",
    "        \n",
    "    def burnInUnderlying(self, address, amount):\n",
    "        return self.burn(address, amount/self.rateAccumulator)\n",
    "    \n",
    "    def addCollateral(self, token, address, amount):\n",
    "        return pytoken.functions.addCollateral(address, amount).transact({'from': address})\n",
    "      \n",
    "    def withdrawCollateral(self, token, address, amount):\n",
    "        return pytoken.functions.withdrawCollateral(address, amount).transact({'from': address})\n",
    "    \n",
    "    # accrue for both debt and interest\n",
    "    def accrueInterest(self):\n",
    "        return pytoken.functions.accrueInterest().transact()\n",
    "    \n",
    "    def updateRates(self):\n",
    "        return pytoken.functions.updateRates().transact()\n",
    "    \n",
    "    # borrow against a particular tokens worth of collateral\n",
    "    def borrow(self, token, address, amount):\n",
    "        pass\n",
    "        \n",
    "    def maximumBorrow(self, token, address):\n",
    "        pass\n",
    "\n",
    "       \n",
    "    def liquidate(self, token, addressToLiquidate, LiquidatorAddress, amount):\n",
    "        pass\n",
    "        \n",
    "    # Position in a particular collateral token\n",
    "    def position(self, token, address):\n",
    "        pass\n",
    "    \n",
    "    def repay(self, token, address, amount):\n",
    "        pass\n"
   ]
  },
  {
   "cell_type": "code",
   "execution_count": 135,
   "metadata": {},
   "outputs": [],
   "source": [
    "pyA = pyToken(pytoken)\n",
    "\n",
    "\n"
   ]
  },
  {
   "cell_type": "code",
   "execution_count": 136,
   "metadata": {},
   "outputs": [
    {
     "data": {
      "text/plain": [
       "'0x5bcb88A0d20426e451332eE6C4324b0e663c50E0'"
      ]
     },
     "execution_count": 136,
     "metadata": {},
     "output_type": "execute_result"
    }
   ],
   "source": [
    "pyA.pytoken.address"
   ]
  },
  {
   "cell_type": "code",
   "execution_count": 137,
   "metadata": {},
   "outputs": [
    {
     "data": {
      "text/plain": [
       "Decimal('0')"
      ]
     },
     "execution_count": 137,
     "metadata": {},
     "output_type": "execute_result"
    }
   ],
   "source": [
    "pyA.yearlyDebtRate()"
   ]
  },
  {
   "cell_type": "code",
   "execution_count": 138,
   "metadata": {},
   "outputs": [
    {
     "data": {
      "text/plain": [
       "0.0"
      ]
     },
     "execution_count": 138,
     "metadata": {},
     "output_type": "execute_result"
    }
   ],
   "source": [
    "pyA.balanceOfUnderlying(accounts[1])"
   ]
  },
  {
   "cell_type": "code",
   "execution_count": 139,
   "metadata": {},
   "outputs": [
    {
     "data": {
      "text/plain": [
       "Decimal('0')"
      ]
     },
     "execution_count": 139,
     "metadata": {},
     "output_type": "execute_result"
    }
   ],
   "source": [
    "pyA.yearlyRate()"
   ]
  },
  {
   "cell_type": "code",
   "execution_count": 140,
   "metadata": {},
   "outputs": [
    {
     "data": {
      "text/plain": [
       "400000000000000000"
      ]
     },
     "execution_count": 140,
     "metadata": {},
     "output_type": "execute_result"
    }
   ],
   "source": [
    "pyA.underlyingHeld()"
   ]
  },
  {
   "cell_type": "code",
   "execution_count": 141,
   "metadata": {},
   "outputs": [
    {
     "data": {
      "text/plain": [
       "HexBytes('0x56aba2af96bbea0980210b589bf158dead6a5b872ee853c37889c6165f683456')"
      ]
     },
     "execution_count": 141,
     "metadata": {},
     "output_type": "execute_result"
    }
   ],
   "source": [
    "utoken.approve(accounts[4],addresses['pytoken'], 100*10**18)"
   ]
  },
  {
   "cell_type": "code",
   "execution_count": 142,
   "metadata": {},
   "outputs": [
    {
     "data": {
      "text/plain": [
       "'0x2fFd013AaA7B5a7DA93336C2251075202b33FB2B'"
      ]
     },
     "execution_count": 142,
     "metadata": {},
     "output_type": "execute_result"
    }
   ],
   "source": [
    "accounts[4]"
   ]
  },
  {
   "cell_type": "code",
   "execution_count": 143,
   "metadata": {},
   "outputs": [
    {
     "data": {
      "text/plain": [
       "'0x5bcb88A0d20426e451332eE6C4324b0e663c50E0'"
      ]
     },
     "execution_count": 143,
     "metadata": {},
     "output_type": "execute_result"
    }
   ],
   "source": [
    "addresses['pytoken']"
   ]
  },
  {
   "cell_type": "code",
   "execution_count": 144,
   "metadata": {},
   "outputs": [
    {
     "data": {
      "text/plain": [
       "100000000000000000000"
      ]
     },
     "execution_count": 144,
     "metadata": {},
     "output_type": "execute_result"
    }
   ],
   "source": [
    "utoken.allowance(accounts[4], addresses['pytoken'])"
   ]
  },
  {
   "cell_type": "code",
   "execution_count": 145,
   "metadata": {},
   "outputs": [
    {
     "data": {
      "text/plain": [
       "'0xd15468525c35BDBC1eD8F2e09A00F8a173437f2f'"
      ]
     },
     "execution_count": 145,
     "metadata": {},
     "output_type": "execute_result"
    }
   ],
   "source": [
    "pyA.pytoken.functions.underlying().call()"
   ]
  },
  {
   "cell_type": "code",
   "execution_count": 146,
   "metadata": {},
   "outputs": [
    {
     "data": {
      "text/plain": [
       "HexBytes('0xae994fab2f22d07fc9ed0d76c1af860326fe8f3b942e05b5508a50db8295a987')"
      ]
     },
     "execution_count": 146,
     "metadata": {},
     "output_type": "execute_result"
    }
   ],
   "source": [
    "#utoken.approve(pyToken_contract_address, 1*10**18)\n",
    "pyA.mint(accounts[4], 1*10**17)"
   ]
  },
  {
   "cell_type": "code",
   "execution_count": 147,
   "metadata": {},
   "outputs": [
    {
     "data": {
      "text/plain": [
       "500000000000000000"
      ]
     },
     "execution_count": 147,
     "metadata": {},
     "output_type": "execute_result"
    }
   ],
   "source": [
    "pyA.balanceOf(accounts[4])"
   ]
  },
  {
   "cell_type": "markdown",
   "metadata": {},
   "source": [
    "## Simulation"
   ]
  },
  {
   "cell_type": "code",
   "execution_count": 148,
   "metadata": {},
   "outputs": [],
   "source": [
    "class blockchain:\n",
    "    \n",
    "    def __init__(self, _timestamp, _block):\n",
    "        self.timestamp = _timestamp\n",
    "        self.block = _block\n",
    "    \n",
    "    def incrementBlock(self):\n",
    "        advanceBlock()\n",
    "    \n",
    "    def updateTimestamp(self, _timestamp):\n",
    "        seconds = _timestamp - getBlockTimestamp()\n",
    "        advanceTime(seconds)\n",
    "        advanceBlock()\n",
    "    \n",
    "    def blockNumber(self):\n",
    "        return getBlockNumber()\n",
    "    \n",
    "    def now(self):\n",
    "        return getBlockTimestamp()"
   ]
  },
  {
   "cell_type": "code",
   "execution_count": 149,
   "metadata": {},
   "outputs": [],
   "source": [
    "class Interface:\n",
    "    \n",
    "    def __init__(self, _chain : blockchain, _uTokenA : Token, _uTokenB : Token, _oracle, _pyA):\n",
    "        self.A = _uTokenA\n",
    "        self.B = _uTokenB\n",
    "        self.chain = _chain\n",
    "        self.oracle = _oracle\n",
    "        self.pyA = _pyA\n",
    "        \n",
    "    def updateInterestRates(self):\n",
    "        self.pyA.updateRates()\n",
    "        self.pyA.accrueInterest()\n",
    "    \n",
    "    def eachBlock(self):\n",
    "        self.chain.incrementBlock()\n",
    "        self.updateInterestRates()\n",
    "        \n"
   ]
  },
  {
   "cell_type": "code",
   "execution_count": 150,
   "metadata": {},
   "outputs": [],
   "source": [
    "class Agent:\n",
    "    def __init__(self, _interface):\n",
    "        self.interface = _interface\n",
    "        self.address = numpy.random.randint(1,1000)\n",
    "        \n",
    "    def setup(self):\n",
    "        pass\n",
    "    \n",
    "    def performActions(self):\n",
    "        pass\n",
    "    \n",
    "    def shutdown(self):\n",
    "        pass"
   ]
  },
  {
   "cell_type": "code",
   "execution_count": 151,
   "metadata": {},
   "outputs": [],
   "source": [
    "def fNumber(number):\n",
    "    return int(number * Decimal(10**18))\n",
    "    \n",
    "class YieldAgent(Agent):\n",
    "    def __init__(self, _interface):\n",
    "        super().__init__(_interface)\n",
    "        self.address = random.choice(accounts)\n",
    "        self.block = 0\n",
    "        \n",
    "    def setup(self):   \n",
    "        self.initialA = min(Decimal(round(numpy.random.lognormal(6, 1))), Decimal(1000))\n",
    "        self.interface.A.mint(self.address, fNumber(self.initialA))\n",
    "        self.lowerRate = Decimal(numpy.random.uniform(0,7) / 100)\n",
    "        self.upperRate = self.lowerRate + Decimal(numpy.random.uniform(0,5) / 100)\n",
    "        self.AUsed = 0\n",
    "    \n",
    "    def performActions(self):\n",
    "        if self.interface.pyA.yearlyRate() > self.upperRate:\n",
    "            self.HODL()\n",
    "        elif self.interface.pyA.yearlyRate() < self.lowerRate:\n",
    "            self.unHODL()\n",
    "            \n",
    "    def HODL(self):\n",
    "        self.block = self.interface.chain.blockNumber()\n",
    "        if self.AUsed < self.initialA:\n",
    "            aBalance = min(self.interface.A.balanceOf(self.address), self.initialA-self.AUsed)\n",
    "            self.interface.pyA.mint(self.address, fNumber(aBalance))\n",
    "            print(\"HODLing {} tokens at rate {}\".format(aBalance, round(self.upperRate, 4)))\n",
    "            self.AUsed += amount\n",
    "            \n",
    "    def unHODL(self):\n",
    "        if self.block - self.interface.chain.blockNumber() < 10:\n",
    "            return\n",
    "        amount = min(self.interface.pyA.balanceOfUnderlying(self.address), \n",
    "                     self.interface.pyA.underlyingHeld(),\n",
    "                     self.initialA\n",
    "                    )\n",
    "        amount = amount*Decimal('0.1')\n",
    "        if amount > 0 and amount < self.AUsed:\n",
    "            # let's only remove 10% at a time\n",
    "            self.interface.pyA.redeem(self.address, fNumber(amount))\n",
    "            print(\"unHODLing {} tokens\".format(amount, round(self.lowerRate, 4)))\n",
    "            self.AUsed -= amount\n",
    "            \n",
    "            \n",
    "            "
   ]
  },
  {
   "cell_type": "code",
   "execution_count": 164,
   "metadata": {},
   "outputs": [],
   "source": [
    "# Borrow agents lever up on ETH collateral by selling pyTokens\n",
    "class BorrowAgent(Agent):\n",
    "    def __init__(self, _interface):\n",
    "        super().__init__(_interface)\n",
    "        self.address = random.choice(accounts)\n",
    "        \n",
    "    def setup(self):\n",
    "        self.initialB = min(Decimal(round(numpy.random.lognormal(3, 1))), Decimal(100))\n",
    "        self.interface.B.mint(self.address, fNumber(self.initialB ))\n",
    "        BReserve = self.initialB * Decimal('0.1')\n",
    "        self.each = (self.initialB - BReserve)/2\n",
    "        self.interface.B.approve(self.address, self.interface.pyA.pytoken.address, fNumber(self.each))\n",
    "        self.interface.pyA.addCollateral(\"ETH\", self.address, fNumber(self.each) )\n",
    "        self.collateralizationRatio = self.interface.pyA.collateralizationRatio()\n",
    "        \n",
    "        # Below needs updated\n",
    "        # price = self.interface.ethAOracle.getPriceInToken(self.interface.A)\n",
    "        self.desiredBorrow = Decimal('0.5')*self.interface.oracle.endTWAP()*self.each\n",
    "        \n",
    "        self.interface.A.mint(self.address, fNumber(self.desiredBorrow*1000))\n",
    "        self.lowerRate = Decimal(numpy.random.uniform(0,10) / 100)\n",
    "        self.upperRate = self.lowerRate + Decimal(numpy.random.uniform(0,5) / 100)\n",
    "    \n",
    "    def maximumBorrow(self): \n",
    "        return self.interface.pyA.balanceOfUnderlying(self.address)* self.interface.oracle.endTWAP()/  \\\n",
    "                    (self.collateralizationRatio * 10**18)\n",
    "    \n",
    "    def performActions(self):\n",
    "        if self.interface.pyA.yearlyDebtRate() > self.upperRate:\n",
    "            self.unBorrow()\n",
    "        elif self.interface.pyA.yearlyDebtRate() < self.lowerRate:\n",
    "            self.borrow()\n",
    "        uAmount = min(self.interface.pyA.balanceOfUnderlying(self.address), fNumber(self.interface.pyA.underlyingHeld()))\n",
    "        if uAmount > Decimal('0.1'):\n",
    "            self.interface.pyA.redeem(self.address, fNumber(Decimal(uAmount)*Decimal(.99)))\n",
    "            print(\"Withdrew {} tokens at {}\".format(round(uAmount*Decimal(.99), 4), round(self.lowerRate, 4) ))\n",
    "            \n",
    "            \n",
    "    def borrow(self):\n",
    "        price = self.interface.oracle.endTWAP()\n",
    "        #if we've already mostly borrowed what we desire, let's stop\n",
    "        if self.interface.pyA.debtInUnderlying(\"ETH\", self.address) > Decimal('.99') * self.desiredBorrow:\n",
    "            return\n",
    "        #initiate borrow\n",
    "        borrowRatio = Decimal('0.5')\n",
    "        amount = self.maximumBorrow() - self.interface.pyA.debtInUnderlying(\"ETH\", self.address)\n",
    "        borrow = (Decimal(amount) * borrowRatio) / Decimal(self.collateralizationRatio )\n",
    "        if borrow > Decimal('0.1'):\n",
    "            self.interface.pyA.borrow(\"ETH\", self.address, fNumber(borrow))\n",
    "            print(\"Borrowed {} tokens at {}\".format(round(borrow, 4), round(self.lowerRate, 4) ))\n",
    "\n",
    "    \n",
    "    def unBorrow(self):\n",
    "        amount = Decimal('0.95') * self.interface.pyA.debtInUnderlying(\"ETH\", self.address)\n",
    "        #funds = self.interface.A.balanceOf(self.address)\n",
    "        #toUnBorrow = min(debt, funds)\n",
    "        if amount > Decimal('0.1'):\n",
    "            try:\n",
    "                self.interface.A.approve(self.address, self.interface.pyA.pytoken.address, fNumber(amount*Decimal(1.01)))\n",
    "                self.interface.pyA.mint(self.address, fNumber(amount*Decimal(1.01)))\n",
    "                self.interface.pyA.repay(\"ETH\", self.address, fNumber(amount))\n",
    "                print(\"unBorrowed {} tokens at {}\".format(round(amount, 4), round(self.upperRate, 4) ))\n",
    "            except Exception as e: \n",
    "                print(\"failed to unborrow. amount:{} underlying balance: {} pyTokens: {} \".format(amount, self.interface.A.balanceOf(self.address), self.interface.pyA.balanceOfUnderlying(self.address)))\n",
    "                raise e\n",
    "    \n"
   ]
  },
  {
   "cell_type": "code",
   "execution_count": null,
   "metadata": {},
   "outputs": [],
   "source": []
  },
  {
   "cell_type": "markdown",
   "metadata": {},
   "source": [
    "## Simulation Loop"
   ]
  },
  {
   "cell_type": "code",
   "execution_count": 165,
   "metadata": {},
   "outputs": [
    {
     "ename": "ValueError",
     "evalue": "{'code': -32603, 'message': 'VM Exception while processing transaction: revert ERC20: transfer amount exceeds allowance'}",
     "output_type": "error",
     "traceback": [
      "\u001b[0;31m---------------------------------------------------------------------------\u001b[0m",
      "\u001b[0;31mValueError\u001b[0m                                Traceback (most recent call last)",
      "\u001b[0;32m<ipython-input-165-3593dd9c8e13>\u001b[0m in \u001b[0;36m<module>\u001b[0;34m\u001b[0m\n\u001b[1;32m     80\u001b[0m \u001b[0;34m\u001b[0m\u001b[0m\n\u001b[1;32m     81\u001b[0m     \u001b[0;32mfor\u001b[0m \u001b[0muser\u001b[0m \u001b[0;32min\u001b[0m \u001b[0musers\u001b[0m\u001b[0;34m:\u001b[0m\u001b[0;34m\u001b[0m\u001b[0;34m\u001b[0m\u001b[0m\n\u001b[0;32m---> 82\u001b[0;31m         \u001b[0muser\u001b[0m\u001b[0;34m.\u001b[0m\u001b[0mperformActions\u001b[0m\u001b[0;34m(\u001b[0m\u001b[0;34m)\u001b[0m\u001b[0;34m\u001b[0m\u001b[0;34m\u001b[0m\u001b[0m\n\u001b[0m\u001b[1;32m     83\u001b[0m \u001b[0;34m\u001b[0m\u001b[0m\n\u001b[1;32m     84\u001b[0m     \u001b[0mpyAinterest\u001b[0m\u001b[0;34m.\u001b[0m\u001b[0mappend\u001b[0m\u001b[0;34m(\u001b[0m\u001b[0mfloat\u001b[0m\u001b[0;34m(\u001b[0m\u001b[0minterface\u001b[0m\u001b[0;34m.\u001b[0m\u001b[0mpyA\u001b[0m\u001b[0;34m.\u001b[0m\u001b[0myearlyRate\u001b[0m\u001b[0;34m(\u001b[0m\u001b[0;34m)\u001b[0m\u001b[0;34m)\u001b[0m\u001b[0;34m)\u001b[0m\u001b[0;34m\u001b[0m\u001b[0;34m\u001b[0m\u001b[0m\n",
      "\u001b[0;32m<ipython-input-164-07b7d3818d4a>\u001b[0m in \u001b[0;36mperformActions\u001b[0;34m(self)\u001b[0m\n\u001b[1;32m     33\u001b[0m         \u001b[0muAmount\u001b[0m \u001b[0;34m=\u001b[0m \u001b[0mmin\u001b[0m\u001b[0;34m(\u001b[0m\u001b[0mself\u001b[0m\u001b[0;34m.\u001b[0m\u001b[0minterface\u001b[0m\u001b[0;34m.\u001b[0m\u001b[0mpyA\u001b[0m\u001b[0;34m.\u001b[0m\u001b[0mbalanceOfUnderlying\u001b[0m\u001b[0;34m(\u001b[0m\u001b[0mself\u001b[0m\u001b[0;34m.\u001b[0m\u001b[0maddress\u001b[0m\u001b[0;34m)\u001b[0m\u001b[0;34m,\u001b[0m \u001b[0mfNumber\u001b[0m\u001b[0;34m(\u001b[0m\u001b[0mself\u001b[0m\u001b[0;34m.\u001b[0m\u001b[0minterface\u001b[0m\u001b[0;34m.\u001b[0m\u001b[0mpyA\u001b[0m\u001b[0;34m.\u001b[0m\u001b[0munderlyingHeld\u001b[0m\u001b[0;34m(\u001b[0m\u001b[0;34m)\u001b[0m\u001b[0;34m)\u001b[0m\u001b[0;34m)\u001b[0m\u001b[0;34m\u001b[0m\u001b[0;34m\u001b[0m\u001b[0m\n\u001b[1;32m     34\u001b[0m         \u001b[0;32mif\u001b[0m \u001b[0muAmount\u001b[0m \u001b[0;34m>\u001b[0m \u001b[0mDecimal\u001b[0m\u001b[0;34m(\u001b[0m\u001b[0;34m'0.1'\u001b[0m\u001b[0;34m)\u001b[0m\u001b[0;34m:\u001b[0m\u001b[0;34m\u001b[0m\u001b[0;34m\u001b[0m\u001b[0m\n\u001b[0;32m---> 35\u001b[0;31m             \u001b[0mself\u001b[0m\u001b[0;34m.\u001b[0m\u001b[0minterface\u001b[0m\u001b[0;34m.\u001b[0m\u001b[0mpyA\u001b[0m\u001b[0;34m.\u001b[0m\u001b[0mredeem\u001b[0m\u001b[0;34m(\u001b[0m\u001b[0mself\u001b[0m\u001b[0;34m.\u001b[0m\u001b[0maddress\u001b[0m\u001b[0;34m,\u001b[0m \u001b[0mfNumber\u001b[0m\u001b[0;34m(\u001b[0m\u001b[0mDecimal\u001b[0m\u001b[0;34m(\u001b[0m\u001b[0muAmount\u001b[0m\u001b[0;34m)\u001b[0m\u001b[0;34m*\u001b[0m\u001b[0mDecimal\u001b[0m\u001b[0;34m(\u001b[0m\u001b[0;36m.99\u001b[0m\u001b[0;34m)\u001b[0m\u001b[0;34m)\u001b[0m\u001b[0;34m)\u001b[0m\u001b[0;34m\u001b[0m\u001b[0;34m\u001b[0m\u001b[0m\n\u001b[0m\u001b[1;32m     36\u001b[0m             \u001b[0mprint\u001b[0m\u001b[0;34m(\u001b[0m\u001b[0;34m\"Withdrew {} tokens at {}\"\u001b[0m\u001b[0;34m.\u001b[0m\u001b[0mformat\u001b[0m\u001b[0;34m(\u001b[0m\u001b[0mround\u001b[0m\u001b[0;34m(\u001b[0m\u001b[0muAmount\u001b[0m\u001b[0;34m*\u001b[0m\u001b[0mDecimal\u001b[0m\u001b[0;34m(\u001b[0m\u001b[0;36m.99\u001b[0m\u001b[0;34m)\u001b[0m\u001b[0;34m,\u001b[0m \u001b[0;36m4\u001b[0m\u001b[0;34m)\u001b[0m\u001b[0;34m,\u001b[0m \u001b[0mround\u001b[0m\u001b[0;34m(\u001b[0m\u001b[0mself\u001b[0m\u001b[0;34m.\u001b[0m\u001b[0mlowerRate\u001b[0m\u001b[0;34m,\u001b[0m \u001b[0;36m4\u001b[0m\u001b[0;34m)\u001b[0m \u001b[0;34m)\u001b[0m\u001b[0;34m)\u001b[0m\u001b[0;34m\u001b[0m\u001b[0;34m\u001b[0m\u001b[0m\n\u001b[1;32m     37\u001b[0m \u001b[0;34m\u001b[0m\u001b[0m\n",
      "\u001b[0;32m<ipython-input-134-7ec0af98a2b3>\u001b[0m in \u001b[0;36mredeem\u001b[0;34m(self, address, amount)\u001b[0m\n\u001b[1;32m     63\u001b[0m \u001b[0;34m\u001b[0m\u001b[0m\n\u001b[1;32m     64\u001b[0m     \u001b[0;32mdef\u001b[0m \u001b[0mredeem\u001b[0m\u001b[0;34m(\u001b[0m\u001b[0mself\u001b[0m\u001b[0;34m,\u001b[0m \u001b[0maddress\u001b[0m\u001b[0;34m,\u001b[0m \u001b[0mamount\u001b[0m\u001b[0;34m)\u001b[0m\u001b[0;34m:\u001b[0m\u001b[0;34m\u001b[0m\u001b[0;34m\u001b[0m\u001b[0m\n\u001b[0;32m---> 65\u001b[0;31m         \u001b[0;32mreturn\u001b[0m \u001b[0mpytoken\u001b[0m\u001b[0;34m.\u001b[0m\u001b[0mfunctions\u001b[0m\u001b[0;34m.\u001b[0m\u001b[0mredeem\u001b[0m\u001b[0;34m(\u001b[0m\u001b[0mamount\u001b[0m\u001b[0;34m)\u001b[0m\u001b[0;34m.\u001b[0m\u001b[0mtransact\u001b[0m\u001b[0;34m(\u001b[0m\u001b[0;34m{\u001b[0m\u001b[0;34m'from'\u001b[0m\u001b[0;34m:\u001b[0m \u001b[0maddress\u001b[0m\u001b[0;34m}\u001b[0m\u001b[0;34m)\u001b[0m\u001b[0;34m\u001b[0m\u001b[0;34m\u001b[0m\u001b[0m\n\u001b[0m\u001b[1;32m     66\u001b[0m \u001b[0;34m\u001b[0m\u001b[0m\n\u001b[1;32m     67\u001b[0m     \u001b[0;32mdef\u001b[0m \u001b[0mmintInUnderlying\u001b[0m\u001b[0;34m(\u001b[0m\u001b[0mself\u001b[0m\u001b[0;34m,\u001b[0m \u001b[0maddress\u001b[0m\u001b[0;34m,\u001b[0m \u001b[0mamount\u001b[0m\u001b[0;34m)\u001b[0m\u001b[0;34m:\u001b[0m\u001b[0;34m\u001b[0m\u001b[0;34m\u001b[0m\u001b[0m\n",
      "\u001b[0;32m~/opt/anaconda3/envs/web3test/lib/python3.7/site-packages/web3/contract.py\u001b[0m in \u001b[0;36mtransact\u001b[0;34m(self, transaction)\u001b[0m\n\u001b[1;32m    946\u001b[0m             \u001b[0mself\u001b[0m\u001b[0;34m.\u001b[0m\u001b[0mabi\u001b[0m\u001b[0;34m,\u001b[0m\u001b[0;34m\u001b[0m\u001b[0;34m\u001b[0m\u001b[0m\n\u001b[1;32m    947\u001b[0m             \u001b[0;34m*\u001b[0m\u001b[0mself\u001b[0m\u001b[0;34m.\u001b[0m\u001b[0margs\u001b[0m\u001b[0;34m,\u001b[0m\u001b[0;34m\u001b[0m\u001b[0;34m\u001b[0m\u001b[0m\n\u001b[0;32m--> 948\u001b[0;31m             \u001b[0;34m**\u001b[0m\u001b[0mself\u001b[0m\u001b[0;34m.\u001b[0m\u001b[0mkwargs\u001b[0m\u001b[0;34m\u001b[0m\u001b[0;34m\u001b[0m\u001b[0m\n\u001b[0m\u001b[1;32m    949\u001b[0m         )\n\u001b[1;32m    950\u001b[0m \u001b[0;34m\u001b[0m\u001b[0m\n",
      "\u001b[0;32m~/opt/anaconda3/envs/web3test/lib/python3.7/site-packages/web3/contract.py\u001b[0m in \u001b[0;36mtransact_with_contract_function\u001b[0;34m(address, web3, function_name, transaction, contract_abi, fn_abi, *args, **kwargs)\u001b[0m\n\u001b[1;32m   1524\u001b[0m     )\n\u001b[1;32m   1525\u001b[0m \u001b[0;34m\u001b[0m\u001b[0m\n\u001b[0;32m-> 1526\u001b[0;31m     \u001b[0mtxn_hash\u001b[0m \u001b[0;34m=\u001b[0m \u001b[0mweb3\u001b[0m\u001b[0;34m.\u001b[0m\u001b[0meth\u001b[0m\u001b[0;34m.\u001b[0m\u001b[0msendTransaction\u001b[0m\u001b[0;34m(\u001b[0m\u001b[0mtransact_transaction\u001b[0m\u001b[0;34m)\u001b[0m\u001b[0;34m\u001b[0m\u001b[0;34m\u001b[0m\u001b[0m\n\u001b[0m\u001b[1;32m   1527\u001b[0m     \u001b[0;32mreturn\u001b[0m \u001b[0mtxn_hash\u001b[0m\u001b[0;34m\u001b[0m\u001b[0;34m\u001b[0m\u001b[0m\n\u001b[1;32m   1528\u001b[0m \u001b[0;34m\u001b[0m\u001b[0m\n",
      "\u001b[0;32m~/opt/anaconda3/envs/web3test/lib/python3.7/site-packages/web3/eth.py\u001b[0m in \u001b[0;36msendTransaction\u001b[0;34m(self, transaction)\u001b[0m\n\u001b[1;32m    379\u001b[0m                 \u001b[0mtransaction\u001b[0m\u001b[0;34m,\u001b[0m\u001b[0;34m\u001b[0m\u001b[0;34m\u001b[0m\u001b[0m\n\u001b[1;32m    380\u001b[0m                 \u001b[0;34m'gas'\u001b[0m\u001b[0;34m,\u001b[0m\u001b[0;34m\u001b[0m\u001b[0;34m\u001b[0m\u001b[0m\n\u001b[0;32m--> 381\u001b[0;31m                 \u001b[0mget_buffered_gas_estimate\u001b[0m\u001b[0;34m(\u001b[0m\u001b[0mself\u001b[0m\u001b[0;34m.\u001b[0m\u001b[0mweb3\u001b[0m\u001b[0;34m,\u001b[0m \u001b[0mtransaction\u001b[0m\u001b[0;34m)\u001b[0m\u001b[0;34m,\u001b[0m\u001b[0;34m\u001b[0m\u001b[0;34m\u001b[0m\u001b[0m\n\u001b[0m\u001b[1;32m    382\u001b[0m             )\n\u001b[1;32m    383\u001b[0m \u001b[0;34m\u001b[0m\u001b[0m\n",
      "\u001b[0;32m~/opt/anaconda3/envs/web3test/lib/python3.7/site-packages/web3/_utils/transactions.py\u001b[0m in \u001b[0;36mget_buffered_gas_estimate\u001b[0;34m(web3, transaction, gas_buffer)\u001b[0m\n\u001b[1;32m    124\u001b[0m     \u001b[0mgas_estimate_transaction\u001b[0m \u001b[0;34m=\u001b[0m \u001b[0mcast\u001b[0m\u001b[0;34m(\u001b[0m\u001b[0mTxParams\u001b[0m\u001b[0;34m,\u001b[0m \u001b[0mdict\u001b[0m\u001b[0;34m(\u001b[0m\u001b[0;34m**\u001b[0m\u001b[0mtransaction\u001b[0m\u001b[0;34m)\u001b[0m\u001b[0;34m)\u001b[0m\u001b[0;34m\u001b[0m\u001b[0;34m\u001b[0m\u001b[0m\n\u001b[1;32m    125\u001b[0m \u001b[0;34m\u001b[0m\u001b[0m\n\u001b[0;32m--> 126\u001b[0;31m     \u001b[0mgas_estimate\u001b[0m \u001b[0;34m=\u001b[0m \u001b[0mweb3\u001b[0m\u001b[0;34m.\u001b[0m\u001b[0meth\u001b[0m\u001b[0;34m.\u001b[0m\u001b[0mestimateGas\u001b[0m\u001b[0;34m(\u001b[0m\u001b[0mgas_estimate_transaction\u001b[0m\u001b[0;34m)\u001b[0m\u001b[0;34m\u001b[0m\u001b[0;34m\u001b[0m\u001b[0m\n\u001b[0m\u001b[1;32m    127\u001b[0m \u001b[0;34m\u001b[0m\u001b[0m\n\u001b[1;32m    128\u001b[0m     \u001b[0mgas_limit\u001b[0m \u001b[0;34m=\u001b[0m \u001b[0mget_block_gas_limit\u001b[0m\u001b[0;34m(\u001b[0m\u001b[0mweb3\u001b[0m\u001b[0;34m)\u001b[0m\u001b[0;34m\u001b[0m\u001b[0;34m\u001b[0m\u001b[0m\n",
      "\u001b[0;32m~/opt/anaconda3/envs/web3test/lib/python3.7/site-packages/web3/eth.py\u001b[0m in \u001b[0;36mestimateGas\u001b[0;34m(self, transaction, block_identifier)\u001b[0m\n\u001b[1;32m    443\u001b[0m         return self.web3.manager.request_blocking(\n\u001b[1;32m    444\u001b[0m             \u001b[0mRPC\u001b[0m\u001b[0;34m.\u001b[0m\u001b[0meth_estimateGas\u001b[0m\u001b[0;34m,\u001b[0m\u001b[0;34m\u001b[0m\u001b[0;34m\u001b[0m\u001b[0m\n\u001b[0;32m--> 445\u001b[0;31m             \u001b[0mparams\u001b[0m\u001b[0;34m,\u001b[0m\u001b[0;34m\u001b[0m\u001b[0;34m\u001b[0m\u001b[0m\n\u001b[0m\u001b[1;32m    446\u001b[0m         )\n\u001b[1;32m    447\u001b[0m \u001b[0;34m\u001b[0m\u001b[0m\n",
      "\u001b[0;32m~/opt/anaconda3/envs/web3test/lib/python3.7/site-packages/web3/manager.py\u001b[0m in \u001b[0;36mrequest_blocking\u001b[0;34m(self, method, params, error_formatters)\u001b[0m\n\u001b[1;32m    151\u001b[0m         \u001b[0;32mif\u001b[0m \u001b[0;34m\"error\"\u001b[0m \u001b[0;32min\u001b[0m \u001b[0mresponse\u001b[0m\u001b[0;34m:\u001b[0m\u001b[0;34m\u001b[0m\u001b[0;34m\u001b[0m\u001b[0m\n\u001b[1;32m    152\u001b[0m             \u001b[0mapply_error_formatters\u001b[0m\u001b[0;34m(\u001b[0m\u001b[0merror_formatters\u001b[0m\u001b[0;34m,\u001b[0m \u001b[0mresponse\u001b[0m\u001b[0;34m)\u001b[0m\u001b[0;34m\u001b[0m\u001b[0;34m\u001b[0m\u001b[0m\n\u001b[0;32m--> 153\u001b[0;31m             \u001b[0;32mraise\u001b[0m \u001b[0mValueError\u001b[0m\u001b[0;34m(\u001b[0m\u001b[0mresponse\u001b[0m\u001b[0;34m[\u001b[0m\u001b[0;34m\"error\"\u001b[0m\u001b[0;34m]\u001b[0m\u001b[0;34m)\u001b[0m\u001b[0;34m\u001b[0m\u001b[0;34m\u001b[0m\u001b[0m\n\u001b[0m\u001b[1;32m    154\u001b[0m \u001b[0;34m\u001b[0m\u001b[0m\n\u001b[1;32m    155\u001b[0m         \u001b[0;32mreturn\u001b[0m \u001b[0mresponse\u001b[0m\u001b[0;34m[\u001b[0m\u001b[0;34m'result'\u001b[0m\u001b[0;34m]\u001b[0m\u001b[0;34m\u001b[0m\u001b[0;34m\u001b[0m\u001b[0m\n",
      "\u001b[0;31mValueError\u001b[0m: {'code': -32603, 'message': 'VM Exception while processing transaction: revert ERC20: transfer amount exceeds allowance'}"
     ]
    }
   ],
   "source": [
    "import numpy\n",
    "\n",
    "chain = blockchain(1,1)\n",
    "#tokenA = Token(\"TokenA\")\n",
    "#tokenB = Token(\"TokenB\")\n",
    "#oracle = Oracle(tokenA, tokenB)\n",
    "#oracle.setPrice(Decimal('1'))\n",
    "interface = Interface(chain, utoken, ctoken, pyoracle, pyA)\n",
    "\n",
    "#interface.pyA.interestUpdateAmount = Decimal('0.0001')\n",
    "#interface.pyA.reservesTarget = Decimal('0.25')\n",
    "#interface.pyA.minimumSpread = Decimal('0.0')\n",
    "#interface.pyA.adjustmentFreeWindow = Decimal('0.01')\n",
    "\n",
    "# tracking variables\n",
    "pyAinterest = []\n",
    "pyBinterest = []\n",
    "qxA = []\n",
    "qxB = []\n",
    "pyratesA = []\n",
    "debtratesA = []\n",
    "tSupply = []\n",
    "ulying = []\n",
    "debtOutstanding = []\n",
    "debtSupplyRatio = []\n",
    "feeIncome = []\n",
    "\n",
    "\n",
    "\n",
    "# Initial positions\n",
    "#interface.A.mint(\"HODL\", Decimal(100000))\n",
    "#interface.B.mint(\"HODL\", Decimal(100000))\n",
    "\n",
    "#interface.pyA.addCollateral(\"ETH\", \"BU\", Decimal(100) )\n",
    "#interface.pyB.addCollateral(\"ETH\", \"BU\", Decimal(100) )\n",
    "\n",
    "#price = interface.ethAOracle.getPriceInToken(interface.A)\n",
    "#borrow = (Decimal(25) * price) / (interface.pyA.collateralizationRatio )\n",
    "#borrow = Decimal(100)\n",
    "#interface.pyA.borrow(\"ETH\", \"BU\", borrow)\n",
    "#interface.qxA.mint(\"HODL\", Decimal(1500 * 0.15))\n",
    "\n",
    "#Create users\n",
    "\n",
    "#user1 = YieldAgent(interface)\n",
    "#user2 = BorrowAgent(interface)\n",
    "#users = [user1, user2]\n",
    "\n",
    "users = []\n",
    "for x in range(5):\n",
    "    users.append(YieldAgent(interface))\n",
    "    \n",
    "for y in range(2):\n",
    "    users.append(BorrowAgent(interface))\n",
    "\n",
    "# Setup\n",
    "for user in users:\n",
    "    user.setup()\n",
    "\n",
    "# Run\n",
    "for block in range(1000):\n",
    "    \n",
    "    # skip some blocks\n",
    "    #if numpy.random.uniform(0,100) < 80:\n",
    "    #    continue\n",
    "    \n",
    "    # perform interest rate update at beginning of block\n",
    "    interface.eachBlock()\n",
    "    \n",
    "    # add users\n",
    "    if numpy.random.uniform(0,100) < 4:\n",
    "        if numpy.random.uniform(0,100) < 33:\n",
    "            newAgent = BorrowAgent(interface)\n",
    "            newAgent.setup()\n",
    "            users.append(newAgent)\n",
    "        else:\n",
    "            newAgent = YieldAgent(interface)\n",
    "            newAgent.setup()\n",
    "            users.append(newAgent)\n",
    "    \n",
    "    for user in users:\n",
    "        user.performActions()\n",
    "    \n",
    "    pyAinterest.append(float(interface.pyA.yearlyRate()))\n",
    "    debtSupplyRatio.append(float(interface.pyA.getTotalDebt()/interface.pyA.totalSupply()))\n",
    "    qxA.append(float(interface.pyA.getReserveRatio()))\n",
    "    debtOutstanding.append(float(interface.pyA.getTotalDebt()))\n",
    "    pyratesA.append(float(interface.pyA.yearlyRate()))\n",
    "    debtratesA.append(float(interface.pyA.yearlyDebtRate()))\n",
    "    tSupply.append(float(interface.pyA.totalSupply()))\n",
    "    ulying.append(float(interface.pyA.underlyingHeld()))\n",
    "    #feeIncome.append(float(interface.pyA.totalFeeIncome()))\n",
    "# Shutdown\n",
    "for user in users:\n",
    "    user.shutdown()"
   ]
  },
  {
   "cell_type": "code",
   "execution_count": 166,
   "metadata": {},
   "outputs": [
    {
     "data": {
      "text/plain": [
       "<matplotlib.axes._subplots.AxesSubplot at 0x11e632610>"
      ]
     },
     "execution_count": 166,
     "metadata": {},
     "output_type": "execute_result"
    },
    {
     "data": {
      "image/png": "[encoded data removed]",
      "text/plain": [
       "<Figure size 432x288 with 1 Axes>"
      ]
     },
     "metadata": {
      "needs_background": "light"
     },
     "output_type": "display_data"
    }
   ],
   "source": [
    "pandas.Series(debtOutstanding, name=\"debt\").plot(legend=True)\n",
    "pandas.Series(tSupply, name=\"pyTokens\").plot(legend=True)\n",
    "pandas.Series(ulying, name=\"underlying\").plot(legend=True)"
   ]
  },
  {
   "cell_type": "code",
   "execution_count": 167,
   "metadata": {},
   "outputs": [
    {
     "data": {
      "text/plain": [
       "<matplotlib.axes._subplots.AxesSubplot at 0x11e74b910>"
      ]
     },
     "execution_count": 167,
     "metadata": {},
     "output_type": "execute_result"
    },
    {
     "data": {
      "image/png": "[encoded data removed]",
      "text/plain": [
       "<Figure size 432x288 with 1 Axes>"
      ]
     },
     "metadata": {
      "needs_background": "light"
     },
     "output_type": "display_data"
    }
   ],
   "source": [
    "pandas.Series(tSupply, name=\"pyTokens\").plot(legend=True)"
   ]
  },
  {
   "cell_type": "code",
   "execution_count": 168,
   "metadata": {},
   "outputs": [
    {
     "data": {
      "text/plain": [
       "<matplotlib.axes._subplots.AxesSubplot at 0x11e911410>"
      ]
     },
     "execution_count": 168,
     "metadata": {},
     "output_type": "execute_result"
    },
    {
     "data": {
      "image/png": "[encoded data removed]",
      "text/plain": [
       "<Figure size 432x288 with 1 Axes>"
      ]
     },
     "metadata": {
      "needs_background": "light"
     },
     "output_type": "display_data"
    }
   ],
   "source": [
    "pandas.Series(qxA, name=\"Reserve Ratio\").plot(legend=True)"
   ]
  },
  {
   "cell_type": "code",
   "execution_count": 169,
   "metadata": {},
   "outputs": [
    {
     "data": {
      "text/plain": [
       "<matplotlib.axes._subplots.AxesSubplot at 0x11e8c1390>"
      ]
     },
     "execution_count": 169,
     "metadata": {},
     "output_type": "execute_result"
    },
    {
     "data": {
      "image/png": "[encoded data removed]",
      "text/plain": [
       "<Figure size 432x288 with 1 Axes>"
      ]
     },
     "metadata": {
      "needs_background": "light"
     },
     "output_type": "display_data"
    }
   ],
   "source": [
    "pandas.Series(pyratesA, name=\"pyToken yield\").plot(legend=True)\n",
    "pandas.Series(debtratesA,name=\"borrow rate\").plot(legend=True)"
   ]
  },
  {
   "cell_type": "code",
   "execution_count": null,
   "metadata": {},
   "outputs": [],
   "source": []
  },
  {
   "cell_type": "code",
   "execution_count": null,
   "metadata": {},
   "outputs": [],
   "source": []
  },
  {
   "cell_type": "code",
   "execution_count": null,
   "metadata": {},
   "outputs": [],
   "source": []
  }
 ],
 "metadata": {
  "kernelspec": {
   "display_name": "Python 3",
   "language": "python",
   "name": "python3"
  },
  "language_info": {
   "codemirror_mode": {
    "name": "ipython",
    "version": 3
   },
   "file_extension": ".py",
   "mimetype": "text/x-python",
   "name": "python",
   "nbconvert_exporter": "python",
   "pygments_lexer": "ipython3",
   "version": "3.7.6"
  }
 },
 "nbformat": 4,
 "nbformat_minor": 4
}
