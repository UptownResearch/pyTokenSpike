{
 "cells": [
  {
   "cell_type": "code",
   "execution_count": 1,
   "metadata": {},
   "outputs": [],
   "source": [
    "from web3 import Web3, HTTPProvider\n",
    "import json\n",
    "from decimal import Decimal\n",
    "import time \n",
    "import decimal\n",
    "math = decimal.Context()\n",
    "import numpy \n",
    "import random\n",
    "%matplotlib inline\n",
    "import matplotlib\n",
    "import pandas\n",
    "import subprocess\n",
    "import web3"
   ]
  },
  {
   "cell_type": "code",
   "execution_count": null,
   "metadata": {},
   "outputs": [],
   "source": [
    "import os\n",
    "os.chdir('./dapp/')"
   ]
  },
  {
   "cell_type": "code",
   "execution_count": 2,
   "metadata": {},
   "outputs": [],
   "source": [
    "url = 'http://127.0.0.1:8545' \n",
    "w3 = Web3(Web3.HTTPProvider(url))\n",
    "accounts = w3.eth.accounts"
   ]
  },
  {
   "cell_type": "code",
   "execution_count": 3,
   "metadata": {},
   "outputs": [],
   "source": []
  },
  {
   "cell_type": "code",
   "execution_count": 4,
   "metadata": {},
   "outputs": [
    {
     "data": {
      "text/plain": [
       "10"
      ]
     },
     "execution_count": 4,
     "metadata": {},
     "output_type": "execute_result"
    }
   ],
   "source": [
    "web3.types.Wei(10)"
   ]
  },
  {
   "cell_type": "code",
   "execution_count": 2,
   "metadata": {},
   "outputs": [],
   "source": [
    "# Installing app\n",
    "# npm init\n",
    "# npm install --save-dev @nomiclabs/buidler\n",
    "# npx buidler\n",
    "# Follow instructions to create new project\n",
    "\n",
    "# When project is ready\n",
    "# Run: \n",
    "# npx buidler node\n",
    "\n",
    "# run the script (Learn more: https://buidler.dev/guides/scripts.html )\n",
    "# npx buidler --network localhost run scripts/pyTokenTest.js\n",
    "\n",
    "\n",
    "# use web3 to advance blocks/block time with ganache:\n",
    "# https://medium.com/fluidity/standing-the-time-of-test-b906fcc374a9"
   ]
  },
  {
   "cell_type": "code",
   "execution_count": 188,
   "metadata": {},
   "outputs": [],
   "source": [
    "# Get contract addresses from ./artifacts/addresses.json\n",
    "with open('./artifacts/addresses.json') as file:\n",
    "    addresses = json.load(file)"
   ]
  },
  {
   "cell_type": "code",
   "execution_count": 189,
   "metadata": {},
   "outputs": [
    {
     "data": {
      "text/plain": [
       "{'collateral': '0x03049DF4d8730C375CAe2c13a542cCE873369e20',\n",
       " 'underlying': '0x99b0df288A2Ddf84850157b04ef653833e668abE',\n",
       " 'oracle': '0xe3962a83c698CC25DFF81F98B08a9c2e749B367C',\n",
       " 'pytoken': '0x12Cd007817Ff0343cB5dd4b26bcF678D50ab6aE7'}"
      ]
     },
     "execution_count": 189,
     "metadata": {},
     "output_type": "execute_result"
    }
   ],
   "source": [
    "addresses"
   ]
  },
  {
   "cell_type": "code",
   "execution_count": 194,
   "metadata": {},
   "outputs": [],
   "source": [
    "def getContract(fileLocation, address):\n",
    "    with open(fileLocation) as file:\n",
    "        abi_json = json.load(file)\n",
    "    contract_abi = abi_json['abi']\n",
    "    return w3.eth.contract(address = Web3.toChecksumAddress(address), \n",
    "                                              abi = contract_abi)"
   ]
  },
  {
   "cell_type": "code",
   "execution_count": 8,
   "metadata": {},
   "outputs": [],
   "source": [
    "collateral = getContract('./artifacts/Collateral.json', addresses['collateral'])"
   ]
  },
  {
   "cell_type": "code",
   "execution_count": 11,
   "metadata": {},
   "outputs": [],
   "source": []
  },
  {
   "cell_type": "code",
   "execution_count": 12,
   "metadata": {},
   "outputs": [
    {
     "data": {
      "text/plain": [
       "HexBytes('0x09d01c0d0d7d98564c3784a1fc6cf2014d288495157797d520d17904e4e83b69')"
      ]
     },
     "execution_count": 12,
     "metadata": {},
     "output_type": "execute_result"
    }
   ],
   "source": [
    "toMint = (100*10**18)\n",
    "collateral.functions.mint(toMint).transact({'from': accounts[0]})"
   ]
  },
  {
   "cell_type": "code",
   "execution_count": 13,
   "metadata": {},
   "outputs": [
    {
     "data": {
      "text/plain": [
       "100000000000000000000"
      ]
     },
     "execution_count": 13,
     "metadata": {},
     "output_type": "execute_result"
    }
   ],
   "source": [
    "collateral.functions.balanceOf(accounts[0]).call()"
   ]
  },
  {
   "cell_type": "code",
   "execution_count": 10,
   "metadata": {},
   "outputs": [],
   "source": [
    "underlying = getContract('./artifacts/Underlying.json', addresses['underlying'])"
   ]
  },
  {
   "cell_type": "code",
   "execution_count": 14,
   "metadata": {},
   "outputs": [
    {
     "data": {
      "text/plain": [
       "HexBytes('0xcfe5d42c2e1fb35e77c5864ef7f4772886bd09f3ddaa13f871853587f0ca5d26')"
      ]
     },
     "execution_count": 14,
     "metadata": {},
     "output_type": "execute_result"
    }
   ],
   "source": [
    "toMint = (100*10**18)\n",
    "underlying.functions.mint(toMint).transact({'from': accounts[0]})"
   ]
  },
  {
   "cell_type": "code",
   "execution_count": 15,
   "metadata": {},
   "outputs": [],
   "source": [
    "oracle = getContract('./artifacts/Oracle.json', addresses['oracle'])"
   ]
  },
  {
   "cell_type": "code",
   "execution_count": 16,
   "metadata": {},
   "outputs": [
    {
     "data": {
      "text/plain": [
       "HexBytes('0x48fecf760dcd9f32b76af9d28b61244404bdc125e6b5f349b6d5a8663da27116')"
      ]
     },
     "execution_count": 16,
     "metadata": {},
     "output_type": "execute_result"
    }
   ],
   "source": [
    "price = (2*10**18)\n",
    "oracle.functions.updatePrice(price).transact({'from': accounts[0]})"
   ]
  },
  {
   "cell_type": "code",
   "execution_count": 18,
   "metadata": {},
   "outputs": [],
   "source": [
    "pytoken = getContract('./artifacts/pyToken.json', addresses['pytoken'])"
   ]
  },
  {
   "cell_type": "code",
   "execution_count": 19,
   "metadata": {},
   "outputs": [
    {
     "data": {
      "text/plain": [
       "300000000000000000"
      ]
     },
     "execution_count": 19,
     "metadata": {},
     "output_type": "execute_result"
    }
   ],
   "source": [
    "pytoken.functions.reservesTarget().call()"
   ]
  },
  {
   "cell_type": "markdown",
   "metadata": {},
   "source": [
    "## Block and time updates"
   ]
  },
  {
   "cell_type": "code",
   "execution_count": 20,
   "metadata": {},
   "outputs": [
    {
     "data": {
      "text/plain": [
       "23"
      ]
     },
     "execution_count": 20,
     "metadata": {},
     "output_type": "execute_result"
    }
   ],
   "source": [
    "w3.eth.blockNumber"
   ]
  },
  {
   "cell_type": "code",
   "execution_count": 21,
   "metadata": {},
   "outputs": [],
   "source": [
    "def getBlockTimestamp():\n",
    "    return w3.eth.getBlock(w3.eth.blockNumber).timestamp\n",
    "\n",
    "def advanceBlock():\n",
    "    w3.provider.make_request('evm_mine', [])\n",
    "    \n",
    "def advanceTime(seconds):\n",
    "    w3.provider.make_request('evm_increaseTime', [seconds])\n",
    "    \n",
    "def takeSnapshot():\n",
    "    return w3.provider.make_request('evm_snapshot', [])['result']\n",
    "\n",
    "def revertToSnapShot(snapshot):\n",
    "    return w3.provider.make_request('evm_revert', [snapshot])['result']\n",
    "\n",
    "def getBlockNumber():\n",
    "    return w3.eth.blockNumber"
   ]
  },
  {
   "cell_type": "code",
   "execution_count": null,
   "metadata": {},
   "outputs": [],
   "source": []
  },
  {
   "cell_type": "markdown",
   "metadata": {},
   "source": [
    "## Interacting with the contract"
   ]
  },
  {
   "cell_type": "code",
   "execution_count": 22,
   "metadata": {},
   "outputs": [],
   "source": [
    "class Token:       \n",
    "    def __init__(self, _name, _contract):\n",
    "        self.balances = {}\n",
    "        self.totalSupply = 0\n",
    "        self._name = _name\n",
    "        self.contract = _contract\n",
    "    \n",
    "    def mint(self, address, amount):\n",
    "        self.contract.functions.mint(amount).transact({'from': address})\n",
    "    \n",
    "    def balanceOf(self, address):\n",
    "        return self.contract.functions.balanceOf(address).call()\n",
    "    \n",
    "    def name(self):\n",
    "        return self._name\n",
    "    \n",
    "    def allowance(self, owner, spender):\n",
    "        return self.contract.functions.allowance( owner, spender).call()\n",
    "    \n",
    "    def approve(self, address, spender, amount):\n",
    "        return self.contract.functions.approve(spender, amount).transact({'from': address})\n",
    "    \n",
    "    def transferFrom(self, sender, recipient, amount):\n",
    "        assert(amount >= 0)\n",
    "        return self.contract.functions.transfer(recipient, amount).transact({'from': sender})\n",
    "    \n",
    "    "
   ]
  },
  {
   "cell_type": "code",
   "execution_count": 23,
   "metadata": {},
   "outputs": [],
   "source": [
    "ctoken = Token(\"collateral\", collateral)"
   ]
  },
  {
   "cell_type": "code",
   "execution_count": 24,
   "metadata": {},
   "outputs": [],
   "source": [
    "ctoken.mint(accounts[3], 100*10**18)"
   ]
  },
  {
   "cell_type": "code",
   "execution_count": 25,
   "metadata": {},
   "outputs": [
    {
     "data": {
      "text/plain": [
       "100000000000000000000"
      ]
     },
     "execution_count": 25,
     "metadata": {},
     "output_type": "execute_result"
    }
   ],
   "source": [
    "ctoken.balanceOf(accounts[3])"
   ]
  },
  {
   "cell_type": "code",
   "execution_count": 26,
   "metadata": {},
   "outputs": [
    {
     "data": {
      "text/plain": [
       "HexBytes('0x91578d0cad56e3d1cdd0d8f44f10b0ef109762342b87b526536f8d2e6ac7696b')"
      ]
     },
     "execution_count": 26,
     "metadata": {},
     "output_type": "execute_result"
    }
   ],
   "source": [
    "ctoken.transferFrom(accounts[3],accounts[4], int(1.7234 * 10**18))"
   ]
  },
  {
   "cell_type": "code",
   "execution_count": 27,
   "metadata": {},
   "outputs": [
    {
     "data": {
      "text/plain": [
       "1723400000000000000"
      ]
     },
     "execution_count": 27,
     "metadata": {},
     "output_type": "execute_result"
    }
   ],
   "source": [
    "ctoken.balanceOf(accounts[4])"
   ]
  },
  {
   "cell_type": "code",
   "execution_count": 28,
   "metadata": {},
   "outputs": [],
   "source": [
    "utoken = Token(\"underlying\", underlying)"
   ]
  },
  {
   "cell_type": "code",
   "execution_count": 29,
   "metadata": {},
   "outputs": [],
   "source": [
    "utoken.mint(accounts[4], 100*10**18)"
   ]
  },
  {
   "cell_type": "code",
   "execution_count": 30,
   "metadata": {},
   "outputs": [
    {
     "data": {
      "text/plain": [
       "100000000000000000000"
      ]
     },
     "execution_count": 30,
     "metadata": {},
     "output_type": "execute_result"
    }
   ],
   "source": [
    "utoken.balanceOf(accounts[4])"
   ]
  },
  {
   "cell_type": "code",
   "execution_count": 32,
   "metadata": {},
   "outputs": [
    {
     "data": {
      "text/plain": [
       "0"
      ]
     },
     "execution_count": 32,
     "metadata": {},
     "output_type": "execute_result"
    }
   ],
   "source": [
    "utoken.allowance(accounts[4], addresses['pytoken'])"
   ]
  },
  {
   "cell_type": "markdown",
   "metadata": {},
   "source": [
    "## Oracle"
   ]
  },
  {
   "cell_type": "code",
   "execution_count": 670,
   "metadata": {},
   "outputs": [],
   "source": [
    "class Oracle:       \n",
    "    def __init__(self, _oracle):\n",
    "        self.oracle = _oracle\n",
    "        self.saved = -1\n",
    "      \n",
    "    def updatePrice(self, newPrice):\n",
    "        self.oracle.functions.updatePrice(newPrice).call()\n",
    "        \n",
    "    def endTWAP(self ):\n",
    "        if self.saved == -1:\n",
    "            self.saved = self.oracle.functions.endTWAP().call()\n",
    "        return self.saved\n",
    "\n"
   ]
  },
  {
   "cell_type": "code",
   "execution_count": 34,
   "metadata": {},
   "outputs": [],
   "source": [
    "pyoracle = Oracle(oracle)"
   ]
  },
  {
   "cell_type": "code",
   "execution_count": 35,
   "metadata": {},
   "outputs": [
    {
     "data": {
      "text/plain": [
       "2000000000000000000"
      ]
     },
     "execution_count": 35,
     "metadata": {},
     "output_type": "execute_result"
    }
   ],
   "source": [
    "pyoracle.endTWAP()"
   ]
  },
  {
   "cell_type": "code",
   "execution_count": null,
   "metadata": {},
   "outputs": [],
   "source": []
  },
  {
   "cell_type": "markdown",
   "metadata": {},
   "source": [
    "# pyToken contract"
   ]
  },
  {
   "cell_type": "code",
   "execution_count": 838,
   "metadata": {},
   "outputs": [],
   "source": [
    "class pyToken():\n",
    "    def __init__(self,  _pyToken):  \n",
    "        self.pytoken = _pyToken\n",
    "        self._counts = {}\n",
    "        self.blockNumber = 0\n",
    "        self.lastInterestBlockNumber = -1\n",
    "        self.lastRABlockNumber = -1\n",
    "        self.underlyingValid = False\n",
    "    \n",
    "    def updateBlock(self, blockNumber):\n",
    "        self.blockNumber = blockNumber\n",
    "    \n",
    "    #View functions\n",
    "    def toDecimal(self, value, length=Decimal(10**18)):\n",
    "        return Decimal(value) / length\n",
    "    \n",
    "    def counts(self, key):\n",
    "        self._counts[key] = self._counts.get(key, 0) + 1\n",
    "    \n",
    "    \n",
    "    def yearlyDebtRate(self):\n",
    "        self.counts('debtRate')\n",
    "        rate = self.toDecimal(self.pytoken.functions.debtRate().call(), Decimal(10**27))\n",
    "        return math.power(rate, Decimal(31622400)) - 1\n",
    "    \n",
    "    def yearlyRate(self):\n",
    "        if self.lastInterestBlockNumber == self.blockNumber:\n",
    "            return self.lastInterestSaved\n",
    "        else:\n",
    "            self.counts('lastBlockInterest')\n",
    "            self.lastInterestBlockNumber = self.blockNumber\n",
    "            rate = self.toDecimal(self.pytoken.functions.lastBlockInterest().call(), Decimal(10**27))\n",
    "            periods = Decimal(self.pytoken.functions.lastBlockInterestPeriods().call())\n",
    "            rate = math.power(rate, Decimal(1)/periods)\n",
    "            self.lastInterestSaved = math.power(rate, Decimal(31622400)) - 1\n",
    "            return self.lastInterestSaved\n",
    "    \n",
    "    def balanceOf(self, address):\n",
    "        self.counts('balanceOf')\n",
    "        return self.pytoken.functions.balanceOf(address).call()\n",
    "    \n",
    "    def collateralizationRatio(self):\n",
    "        self.counts('collateralizationRatio')\n",
    "        return self.pytoken.functions.collateralizationRatio().call()\n",
    "    \n",
    "    def getTotalDebt(self):\n",
    "        self.counts('getTotalDebt')\n",
    "        return self.pytoken.functions.getTotalDebt().call()\n",
    "    \n",
    "    def getReserveRatio(self):\n",
    "        self.counts('getReserveRatio')\n",
    "        return self.pytoken.functions.getReserveRatio().call()\n",
    "    \n",
    "    def getCollateral(self, token, address):\n",
    "        pass\n",
    "    \n",
    "    def getDebt(self, token, address):\n",
    "        pass\n",
    "\n",
    "    def getCollateralBalance(self, address):\n",
    "        self.counts('getCollateralBalance')\n",
    "        return self.pytoken.functions.getCollateralBalance(address).call()\n",
    "    \n",
    "    def debtInUnderlying(self, address):\n",
    "        self.counts('debtInUnderlying')\n",
    "        return self.pytoken.functions.debtInUnderlying(address).call()\n",
    "    \n",
    "    def balanceOfUnderlying(self, address):\n",
    "        return self.balanceOf(address) * self.rateAccumulator()\n",
    "    \n",
    "    def rateAccumulator(self):\n",
    "        if self.lastRABlockNumber == self.blockNumber:\n",
    "            return self.lastRASaved\n",
    "        else:\n",
    "            self.counts('rateAccumulator')\n",
    "            self.lastRABlockNumber = self.blockNumber\n",
    "            self.lastRASaved = self.toDecimal(self.pytoken.functions.rateAccumulator().call(), Decimal(10**27))\n",
    "            return self.lastRASaved\n",
    "     \n",
    "    def totalSupplyUnderlying(self):\n",
    "        pass\n",
    "    \n",
    "    def totalSupply(self):\n",
    "        self.counts('totalSupply')\n",
    "        return self.pytoken.functions.totalSupply().call()\n",
    "    \n",
    "    def underlyingHeld(self):\n",
    "        if self.underlyingValid:\n",
    "            return self.lastUnderlying\n",
    "        else:\n",
    "            self.counts('underlyingHeld')\n",
    "            self.underlyingValid = True\n",
    "            self.lastUnderlying = self.pytoken.functions.underlyingHeld().call()\n",
    "            return self.lastUnderlying\n",
    "    \n",
    "    def totalFeeIncome(self):\n",
    "        self.counts('totalFeeIncome')\n",
    "        return self.pytoken.functions.totalFeeIncome().call()\n",
    "    \n",
    "    \n",
    "    #ERC-20\n",
    "    def transferUnderlying(self, sender, recipient, amount):\n",
    "        pass\n",
    "    \n",
    "    # User Functions\n",
    "    \n",
    "    def mint(self, address, amount):\n",
    "        self.underlyingValid = False\n",
    "        self.counts('mint')\n",
    "        return pytoken.functions.mint(amount).transact({'from': address})\n",
    "    \n",
    "    def redeem(self, address, amount):\n",
    "        self.underlyingValid = False\n",
    "        self.counts('redeem')\n",
    "        return pytoken.functions.redeem(amount).transact({'from': address})\n",
    "        \n",
    "    def mintInUnderlying(self, address, amount):\n",
    "        raise Exception(\"Function implementation not valid\")\n",
    "        self.underlyingValid = False\n",
    "        self.counts('mint')\n",
    "        pytoken.functions.mint(amount).transact({'from': address})\n",
    "        return self.mint(address, amount/self.rateAccumulator)\n",
    "        \n",
    "    def burnInUnderlying(self, address, amount):\n",
    "        return self.burn(address, amount/self.rateAccumulator)\n",
    "    \n",
    "    def addCollateral(self, address, amount):\n",
    "        self.counts('addCollateral')\n",
    "        return pytoken.functions.addCollateral(address, amount).transact({'from': address})\n",
    "      \n",
    "    def withdrawCollateral(self, token, address, amount):\n",
    "        self.counts('withdrawCollateral')\n",
    "        return pytoken.functions.withdrawCollateral(address, amount).transact({'from': address})\n",
    "    \n",
    "    # accrue for both debt and interest\n",
    "    def accrueInterest(self):\n",
    "        self.counts('accrueInterest')\n",
    "        return pytoken.functions.accrueInterest().transact()\n",
    "    \n",
    "    def updateRates(self):\n",
    "        self.counts('updateRates')\n",
    "        return pytoken.functions.updateRates().transact()\n",
    "    \n",
    "    # borrow against a particular tokens worth of collateral\n",
    "    def completeBorrow(self, token, address, amount, collateralToLock):\n",
    "        self.counts('completeBorrow')\n",
    "        return pytoken.functions.completeBorrow(address, amount, collateralToLock).transact({'from': address})\n",
    "        \n",
    "    def maximumBorrow(self, token, address):\n",
    "        pass\n",
    "\n",
    "       \n",
    "    def liquidate(self, token, addressToLiquidate, LiquidatorAddress, amount):\n",
    "        pass\n",
    "        \n",
    "    # Position in a particular collateral token\n",
    "    def position(self, token, address):\n",
    "        pass\n",
    "    \n",
    "    def repay(self, token, address, amount):\n",
    "        self.counts('repay')\n",
    "        return pytoken.functions.repay(address, amount).transact({'from': address})\n"
   ]
  },
  {
   "cell_type": "code",
   "execution_count": 823,
   "metadata": {},
   "outputs": [],
   "source": [
    "pyA = pyToken(pytoken)\n",
    "\n",
    "\n"
   ]
  },
  {
   "cell_type": "code",
   "execution_count": 824,
   "metadata": {},
   "outputs": [
    {
     "data": {
      "text/plain": [
       "'0x218C88D54d29AeEd94A9D48CcB91988A354FDDa7'"
      ]
     },
     "execution_count": 824,
     "metadata": {},
     "output_type": "execute_result"
    }
   ],
   "source": [
    "pyA.pytoken.address"
   ]
  },
  {
   "cell_type": "code",
   "execution_count": 825,
   "metadata": {},
   "outputs": [
    {
     "data": {
      "text/plain": [
       "Decimal('0.021967514450740227154087140')"
      ]
     },
     "execution_count": 825,
     "metadata": {},
     "output_type": "execute_result"
    }
   ],
   "source": [
    "pyA.yearlyDebtRate()"
   ]
  },
  {
   "cell_type": "code",
   "execution_count": 826,
   "metadata": {},
   "outputs": [
    {
     "data": {
      "text/plain": [
       "Decimal('6100245906118126.440486908704')"
      ]
     },
     "execution_count": 826,
     "metadata": {},
     "output_type": "execute_result"
    }
   ],
   "source": [
    "pyA.balanceOfUnderlying(accounts[1])"
   ]
  },
  {
   "cell_type": "code",
   "execution_count": 827,
   "metadata": {},
   "outputs": [
    {
     "data": {
      "text/plain": [
       "Decimal('0.015046536604454303590900401')"
      ]
     },
     "execution_count": 827,
     "metadata": {},
     "output_type": "execute_result"
    }
   ],
   "source": [
    "pyA.yearlyRate()"
   ]
  },
  {
   "cell_type": "code",
   "execution_count": 828,
   "metadata": {},
   "outputs": [
    {
     "data": {
      "text/plain": [
       "184734455126311348204"
      ]
     },
     "execution_count": 828,
     "metadata": {},
     "output_type": "execute_result"
    }
   ],
   "source": [
    "pyA.underlyingHeld()"
   ]
  },
  {
   "cell_type": "code",
   "execution_count": 359,
   "metadata": {},
   "outputs": [
    {
     "data": {
      "text/plain": [
       "HexBytes('0x282a47121c0213867fae40b7b23756d73c4a7da3b641532adfd0fae197a35396')"
      ]
     },
     "execution_count": 359,
     "metadata": {},
     "output_type": "execute_result"
    }
   ],
   "source": [
    "utoken.approve(accounts[4],addresses['pytoken'], 100*10**18)"
   ]
  },
  {
   "cell_type": "code",
   "execution_count": 360,
   "metadata": {},
   "outputs": [
    {
     "data": {
      "text/plain": [
       "'0x2fFd013AaA7B5a7DA93336C2251075202b33FB2B'"
      ]
     },
     "execution_count": 360,
     "metadata": {},
     "output_type": "execute_result"
    }
   ],
   "source": [
    "accounts[4]"
   ]
  },
  {
   "cell_type": "code",
   "execution_count": 361,
   "metadata": {},
   "outputs": [
    {
     "data": {
      "text/plain": [
       "'0xB45E8Ea8FFA780ad7576cf5A6bB777ce7395AE93'"
      ]
     },
     "execution_count": 361,
     "metadata": {},
     "output_type": "execute_result"
    }
   ],
   "source": [
    "addresses['pytoken']"
   ]
  },
  {
   "cell_type": "code",
   "execution_count": 362,
   "metadata": {},
   "outputs": [
    {
     "data": {
      "text/plain": [
       "100000000000000000000"
      ]
     },
     "execution_count": 362,
     "metadata": {},
     "output_type": "execute_result"
    }
   ],
   "source": [
    "utoken.allowance(accounts[4], addresses['pytoken'])"
   ]
  },
  {
   "cell_type": "code",
   "execution_count": 363,
   "metadata": {},
   "outputs": [
    {
     "data": {
      "text/plain": [
       "'0x0FDA0F29CeeA87c63d7F8F60Be83b20ffcBe656B'"
      ]
     },
     "execution_count": 363,
     "metadata": {},
     "output_type": "execute_result"
    }
   ],
   "source": [
    "pyA.pytoken.functions.underlying().call()"
   ]
  },
  {
   "cell_type": "code",
   "execution_count": 364,
   "metadata": {},
   "outputs": [
    {
     "ename": "ValueError",
     "evalue": "{'code': -32603, 'message': 'VM Exception while processing transaction: revert ERC20: transfer amount exceeds balance'}",
     "output_type": "error",
     "traceback": [
      "\u001b[0;31m---------------------------------------------------------------------------\u001b[0m",
      "\u001b[0;31mValueError\u001b[0m                                Traceback (most recent call last)",
      "\u001b[0;32m<ipython-input-364-88dce2b01d19>\u001b[0m in \u001b[0;36m<module>\u001b[0;34m\u001b[0m\n\u001b[1;32m      1\u001b[0m \u001b[0mutoken\u001b[0m\u001b[0;34m.\u001b[0m\u001b[0mapprove\u001b[0m\u001b[0;34m(\u001b[0m\u001b[0maccounts\u001b[0m\u001b[0;34m[\u001b[0m\u001b[0;36m4\u001b[0m\u001b[0;34m]\u001b[0m\u001b[0;34m,\u001b[0m \u001b[0maddresses\u001b[0m\u001b[0;34m[\u001b[0m\u001b[0;34m'pytoken'\u001b[0m\u001b[0;34m]\u001b[0m\u001b[0;34m,\u001b[0m \u001b[0;36m1\u001b[0m\u001b[0;34m*\u001b[0m\u001b[0;36m10\u001b[0m\u001b[0;34m**\u001b[0m\u001b[0;36m18\u001b[0m\u001b[0;34m)\u001b[0m\u001b[0;34m\u001b[0m\u001b[0;34m\u001b[0m\u001b[0m\n\u001b[0;32m----> 2\u001b[0;31m \u001b[0mpyA\u001b[0m\u001b[0;34m.\u001b[0m\u001b[0mmint\u001b[0m\u001b[0;34m(\u001b[0m\u001b[0maccounts\u001b[0m\u001b[0;34m[\u001b[0m\u001b[0;36m4\u001b[0m\u001b[0;34m]\u001b[0m\u001b[0;34m,\u001b[0m \u001b[0;36m1\u001b[0m\u001b[0;34m*\u001b[0m\u001b[0;36m10\u001b[0m\u001b[0;34m**\u001b[0m\u001b[0;36m17\u001b[0m\u001b[0;34m)\u001b[0m\u001b[0;34m\u001b[0m\u001b[0;34m\u001b[0m\u001b[0m\n\u001b[0m",
      "\u001b[0;32m<ipython-input-352-6657ca353af6>\u001b[0m in \u001b[0;36mmint\u001b[0;34m(self, address, amount)\u001b[0m\n\u001b[1;32m     63\u001b[0m \u001b[0;34m\u001b[0m\u001b[0m\n\u001b[1;32m     64\u001b[0m     \u001b[0;32mdef\u001b[0m \u001b[0mmint\u001b[0m\u001b[0;34m(\u001b[0m\u001b[0mself\u001b[0m\u001b[0;34m,\u001b[0m \u001b[0maddress\u001b[0m\u001b[0;34m,\u001b[0m \u001b[0mamount\u001b[0m\u001b[0;34m)\u001b[0m\u001b[0;34m:\u001b[0m\u001b[0;34m\u001b[0m\u001b[0;34m\u001b[0m\u001b[0m\n\u001b[0;32m---> 65\u001b[0;31m         \u001b[0;32mreturn\u001b[0m \u001b[0mpytoken\u001b[0m\u001b[0;34m.\u001b[0m\u001b[0mfunctions\u001b[0m\u001b[0;34m.\u001b[0m\u001b[0mmint\u001b[0m\u001b[0;34m(\u001b[0m\u001b[0mamount\u001b[0m\u001b[0;34m)\u001b[0m\u001b[0;34m.\u001b[0m\u001b[0mtransact\u001b[0m\u001b[0;34m(\u001b[0m\u001b[0;34m{\u001b[0m\u001b[0;34m'from'\u001b[0m\u001b[0;34m:\u001b[0m \u001b[0maddress\u001b[0m\u001b[0;34m}\u001b[0m\u001b[0;34m)\u001b[0m\u001b[0;34m\u001b[0m\u001b[0;34m\u001b[0m\u001b[0m\n\u001b[0m\u001b[1;32m     66\u001b[0m \u001b[0;34m\u001b[0m\u001b[0m\n\u001b[1;32m     67\u001b[0m     \u001b[0;32mdef\u001b[0m \u001b[0mredeem\u001b[0m\u001b[0;34m(\u001b[0m\u001b[0mself\u001b[0m\u001b[0;34m,\u001b[0m \u001b[0maddress\u001b[0m\u001b[0;34m,\u001b[0m \u001b[0mamount\u001b[0m\u001b[0;34m)\u001b[0m\u001b[0;34m:\u001b[0m\u001b[0;34m\u001b[0m\u001b[0;34m\u001b[0m\u001b[0m\n",
      "\u001b[0;32m~/opt/anaconda3/envs/web3test/lib/python3.7/site-packages/web3/contract.py\u001b[0m in \u001b[0;36mtransact\u001b[0;34m(self, transaction)\u001b[0m\n\u001b[1;32m    946\u001b[0m             \u001b[0mself\u001b[0m\u001b[0;34m.\u001b[0m\u001b[0mabi\u001b[0m\u001b[0;34m,\u001b[0m\u001b[0;34m\u001b[0m\u001b[0;34m\u001b[0m\u001b[0m\n\u001b[1;32m    947\u001b[0m             \u001b[0;34m*\u001b[0m\u001b[0mself\u001b[0m\u001b[0;34m.\u001b[0m\u001b[0margs\u001b[0m\u001b[0;34m,\u001b[0m\u001b[0;34m\u001b[0m\u001b[0;34m\u001b[0m\u001b[0m\n\u001b[0;32m--> 948\u001b[0;31m             \u001b[0;34m**\u001b[0m\u001b[0mself\u001b[0m\u001b[0;34m.\u001b[0m\u001b[0mkwargs\u001b[0m\u001b[0;34m\u001b[0m\u001b[0;34m\u001b[0m\u001b[0m\n\u001b[0m\u001b[1;32m    949\u001b[0m         )\n\u001b[1;32m    950\u001b[0m \u001b[0;34m\u001b[0m\u001b[0m\n",
      "\u001b[0;32m~/opt/anaconda3/envs/web3test/lib/python3.7/site-packages/web3/contract.py\u001b[0m in \u001b[0;36mtransact_with_contract_function\u001b[0;34m(address, web3, function_name, transaction, contract_abi, fn_abi, *args, **kwargs)\u001b[0m\n\u001b[1;32m   1524\u001b[0m     )\n\u001b[1;32m   1525\u001b[0m \u001b[0;34m\u001b[0m\u001b[0m\n\u001b[0;32m-> 1526\u001b[0;31m     \u001b[0mtxn_hash\u001b[0m \u001b[0;34m=\u001b[0m \u001b[0mweb3\u001b[0m\u001b[0;34m.\u001b[0m\u001b[0meth\u001b[0m\u001b[0;34m.\u001b[0m\u001b[0msendTransaction\u001b[0m\u001b[0;34m(\u001b[0m\u001b[0mtransact_transaction\u001b[0m\u001b[0;34m)\u001b[0m\u001b[0;34m\u001b[0m\u001b[0;34m\u001b[0m\u001b[0m\n\u001b[0m\u001b[1;32m   1527\u001b[0m     \u001b[0;32mreturn\u001b[0m \u001b[0mtxn_hash\u001b[0m\u001b[0;34m\u001b[0m\u001b[0;34m\u001b[0m\u001b[0m\n\u001b[1;32m   1528\u001b[0m \u001b[0;34m\u001b[0m\u001b[0m\n",
      "\u001b[0;32m~/opt/anaconda3/envs/web3test/lib/python3.7/site-packages/web3/eth.py\u001b[0m in \u001b[0;36msendTransaction\u001b[0;34m(self, transaction)\u001b[0m\n\u001b[1;32m    379\u001b[0m                 \u001b[0mtransaction\u001b[0m\u001b[0;34m,\u001b[0m\u001b[0;34m\u001b[0m\u001b[0;34m\u001b[0m\u001b[0m\n\u001b[1;32m    380\u001b[0m                 \u001b[0;34m'gas'\u001b[0m\u001b[0;34m,\u001b[0m\u001b[0;34m\u001b[0m\u001b[0;34m\u001b[0m\u001b[0m\n\u001b[0;32m--> 381\u001b[0;31m                 \u001b[0mget_buffered_gas_estimate\u001b[0m\u001b[0;34m(\u001b[0m\u001b[0mself\u001b[0m\u001b[0;34m.\u001b[0m\u001b[0mweb3\u001b[0m\u001b[0;34m,\u001b[0m \u001b[0mtransaction\u001b[0m\u001b[0;34m)\u001b[0m\u001b[0;34m,\u001b[0m\u001b[0;34m\u001b[0m\u001b[0;34m\u001b[0m\u001b[0m\n\u001b[0m\u001b[1;32m    382\u001b[0m             )\n\u001b[1;32m    383\u001b[0m \u001b[0;34m\u001b[0m\u001b[0m\n",
      "\u001b[0;32m~/opt/anaconda3/envs/web3test/lib/python3.7/site-packages/web3/_utils/transactions.py\u001b[0m in \u001b[0;36mget_buffered_gas_estimate\u001b[0;34m(web3, transaction, gas_buffer)\u001b[0m\n\u001b[1;32m    124\u001b[0m     \u001b[0mgas_estimate_transaction\u001b[0m \u001b[0;34m=\u001b[0m \u001b[0mcast\u001b[0m\u001b[0;34m(\u001b[0m\u001b[0mTxParams\u001b[0m\u001b[0;34m,\u001b[0m \u001b[0mdict\u001b[0m\u001b[0;34m(\u001b[0m\u001b[0;34m**\u001b[0m\u001b[0mtransaction\u001b[0m\u001b[0;34m)\u001b[0m\u001b[0;34m)\u001b[0m\u001b[0;34m\u001b[0m\u001b[0;34m\u001b[0m\u001b[0m\n\u001b[1;32m    125\u001b[0m \u001b[0;34m\u001b[0m\u001b[0m\n\u001b[0;32m--> 126\u001b[0;31m     \u001b[0mgas_estimate\u001b[0m \u001b[0;34m=\u001b[0m \u001b[0mweb3\u001b[0m\u001b[0;34m.\u001b[0m\u001b[0meth\u001b[0m\u001b[0;34m.\u001b[0m\u001b[0mestimateGas\u001b[0m\u001b[0;34m(\u001b[0m\u001b[0mgas_estimate_transaction\u001b[0m\u001b[0;34m)\u001b[0m\u001b[0;34m\u001b[0m\u001b[0;34m\u001b[0m\u001b[0m\n\u001b[0m\u001b[1;32m    127\u001b[0m \u001b[0;34m\u001b[0m\u001b[0m\n\u001b[1;32m    128\u001b[0m     \u001b[0mgas_limit\u001b[0m \u001b[0;34m=\u001b[0m \u001b[0mget_block_gas_limit\u001b[0m\u001b[0;34m(\u001b[0m\u001b[0mweb3\u001b[0m\u001b[0;34m)\u001b[0m\u001b[0;34m\u001b[0m\u001b[0;34m\u001b[0m\u001b[0m\n",
      "\u001b[0;32m~/opt/anaconda3/envs/web3test/lib/python3.7/site-packages/web3/eth.py\u001b[0m in \u001b[0;36mestimateGas\u001b[0;34m(self, transaction, block_identifier)\u001b[0m\n\u001b[1;32m    443\u001b[0m         return self.web3.manager.request_blocking(\n\u001b[1;32m    444\u001b[0m             \u001b[0mRPC\u001b[0m\u001b[0;34m.\u001b[0m\u001b[0meth_estimateGas\u001b[0m\u001b[0;34m,\u001b[0m\u001b[0;34m\u001b[0m\u001b[0;34m\u001b[0m\u001b[0m\n\u001b[0;32m--> 445\u001b[0;31m             \u001b[0mparams\u001b[0m\u001b[0;34m,\u001b[0m\u001b[0;34m\u001b[0m\u001b[0;34m\u001b[0m\u001b[0m\n\u001b[0m\u001b[1;32m    446\u001b[0m         )\n\u001b[1;32m    447\u001b[0m \u001b[0;34m\u001b[0m\u001b[0m\n",
      "\u001b[0;32m~/opt/anaconda3/envs/web3test/lib/python3.7/site-packages/web3/manager.py\u001b[0m in \u001b[0;36mrequest_blocking\u001b[0;34m(self, method, params, error_formatters)\u001b[0m\n\u001b[1;32m    151\u001b[0m         \u001b[0;32mif\u001b[0m \u001b[0;34m\"error\"\u001b[0m \u001b[0;32min\u001b[0m \u001b[0mresponse\u001b[0m\u001b[0;34m:\u001b[0m\u001b[0;34m\u001b[0m\u001b[0;34m\u001b[0m\u001b[0m\n\u001b[1;32m    152\u001b[0m             \u001b[0mapply_error_formatters\u001b[0m\u001b[0;34m(\u001b[0m\u001b[0merror_formatters\u001b[0m\u001b[0;34m,\u001b[0m \u001b[0mresponse\u001b[0m\u001b[0;34m)\u001b[0m\u001b[0;34m\u001b[0m\u001b[0;34m\u001b[0m\u001b[0m\n\u001b[0;32m--> 153\u001b[0;31m             \u001b[0;32mraise\u001b[0m \u001b[0mValueError\u001b[0m\u001b[0;34m(\u001b[0m\u001b[0mresponse\u001b[0m\u001b[0;34m[\u001b[0m\u001b[0;34m\"error\"\u001b[0m\u001b[0;34m]\u001b[0m\u001b[0;34m)\u001b[0m\u001b[0;34m\u001b[0m\u001b[0;34m\u001b[0m\u001b[0m\n\u001b[0m\u001b[1;32m    154\u001b[0m \u001b[0;34m\u001b[0m\u001b[0m\n\u001b[1;32m    155\u001b[0m         \u001b[0;32mreturn\u001b[0m \u001b[0mresponse\u001b[0m\u001b[0;34m[\u001b[0m\u001b[0;34m'result'\u001b[0m\u001b[0;34m]\u001b[0m\u001b[0;34m\u001b[0m\u001b[0;34m\u001b[0m\u001b[0m\n",
      "\u001b[0;31mValueError\u001b[0m: {'code': -32603, 'message': 'VM Exception while processing transaction: revert ERC20: transfer amount exceeds balance'}"
     ]
    }
   ],
   "source": [
    "utoken.approve(accounts[4], addresses['pytoken'], 1*10**18)\n",
    "pyA.mint(accounts[4], 1*10**17)"
   ]
  },
  {
   "cell_type": "code",
   "execution_count": 365,
   "metadata": {},
   "outputs": [
    {
     "data": {
      "text/plain": [
       "0"
      ]
     },
     "execution_count": 365,
     "metadata": {},
     "output_type": "execute_result"
    }
   ],
   "source": [
    "pyA.balanceOf(accounts[4])"
   ]
  },
  {
   "cell_type": "markdown",
   "metadata": {},
   "source": [
    "## Simulation"
   ]
  },
  {
   "cell_type": "code",
   "execution_count": 366,
   "metadata": {},
   "outputs": [],
   "source": [
    "class blockchain:\n",
    "    \n",
    "    def __init__(self, _timestamp, _block):\n",
    "        self.timestamp = _timestamp\n",
    "        self.block = _block\n",
    "    \n",
    "    def incrementBlock(self):\n",
    "        advanceBlock()\n",
    "    \n",
    "    def updateTimestamp(self, _timestamp):\n",
    "        seconds = _timestamp - getBlockTimestamp()\n",
    "        advanceTime(seconds)\n",
    "        advanceBlock()\n",
    "    \n",
    "    def blockNumber(self):\n",
    "        return getBlockNumber()\n",
    "    \n",
    "    def now(self):\n",
    "        return getBlockTimestamp()"
   ]
  },
  {
   "cell_type": "code",
   "execution_count": 367,
   "metadata": {},
   "outputs": [],
   "source": [
    "class Interface:\n",
    "    \n",
    "    def __init__(self, _chain : blockchain, _uTokenA : Token, _uTokenB : Token, _oracle, _pyA):\n",
    "        self.A = _uTokenA\n",
    "        self.B = _uTokenB\n",
    "        self.chain = _chain\n",
    "        self.oracle = _oracle\n",
    "        self.pyA = _pyA\n",
    "        \n",
    "    def updateInterestRates(self):\n",
    "        self.pyA.updateRates()\n",
    "        self.pyA.accrueInterest()\n",
    "    \n",
    "    def eachBlock(self):\n",
    "        self.chain.incrementBlock()\n",
    "        self.updateInterestRates()\n",
    "        \n"
   ]
  },
  {
   "cell_type": "code",
   "execution_count": 368,
   "metadata": {},
   "outputs": [],
   "source": [
    "class Agent:\n",
    "    def __init__(self, _interface):\n",
    "        self.interface = _interface\n",
    "        self.address = numpy.random.randint(1,1000)\n",
    "        \n",
    "    def setup(self):\n",
    "        pass\n",
    "    \n",
    "    def performActions(self):\n",
    "        pass\n",
    "    \n",
    "    def shutdown(self):\n",
    "        pass"
   ]
  },
  {
   "cell_type": "code",
   "execution_count": 853,
   "metadata": {},
   "outputs": [],
   "source": [
    "def fNumber(number):\n",
    "    return int(number * Decimal(10**18))\n",
    "    \n",
    "def unNumber(number):\n",
    "    return Decimal(number) / Decimal(10**18)\n",
    "    \n",
    "class YieldAgent(Agent):\n",
    "    def __init__(self, _interface):\n",
    "        super().__init__(_interface)\n",
    "        self.address = random.choice(accounts)\n",
    "        self.block = 0\n",
    "        \n",
    "    def setup(self):   \n",
    "        self.initialA = min(Decimal(round(numpy.random.lognormal(3, 1))), Decimal(1000))\n",
    "        self.interface.A.mint(self.address, fNumber(self.initialA))\n",
    "        self.lowerRate = Decimal(numpy.random.uniform(0,3) / 100)\n",
    "        self.upperRate = self.lowerRate + Decimal(numpy.random.uniform(0,2) / 100)\n",
    "        self.AUsed = 0\n",
    "        print(\"Yield Agent lower Rate: {} Upper Rate: {}\".format(self.lowerRate , self.upperRate))\n",
    "    \n",
    "    def performActions(self):\n",
    "        rate = self.interface.pyA.yearlyRate()\n",
    "        #print(\"rate: {}, upperRate {}\".format(rate, self.upperRate))\n",
    "        if  rate > self.upperRate:\n",
    "            self.HODL()\n",
    "        elif rate < self.lowerRate:\n",
    "            self.unHODL()\n",
    "            \n",
    "    def HODL(self):\n",
    "        self.block = self.interface.chain.blockNumber()\n",
    "        if self.AUsed < self.initialA:\n",
    "            aBalance = min(unNumber(self.interface.A.balanceOf(self.address)), self.initialA-self.AUsed)\n",
    "            self.interface.A.approve(self.address, self.interface.pyA.pytoken.address, fNumber(aBalance))\n",
    "            self.interface.pyA.mint(self.address, fNumber(aBalance))\n",
    "            print(\"HODLing {} tokens at rate {}\".format(aBalance, round(self.upperRate, 4)))\n",
    "            self.AUsed += aBalance\n",
    "            \n",
    "    def unHODL(self):\n",
    "        if self.block - self.interface.chain.blockNumber() < 10:\n",
    "            return\n",
    "        amount = min(unNumber(self.interface.pyA.balanceOfUnderlying(self.address)), \n",
    "                     unNumber(self.interface.pyA.underlyingHeld()),\n",
    "                     self.initialA\n",
    "                    )\n",
    "        amount = amount*Decimal('0.1')\n",
    "        if amount > 0 and amount < self.AUsed:\n",
    "            # let's only remove 10% at a time\n",
    "            self.interface.pyA.redeem(self.address, fNumber(amount))\n",
    "            print(\"unHODLing {} tokens\".format(amount, round(self.lowerRate, 4)))\n",
    "            self.AUsed -= amount\n",
    "            \n",
    "            \n",
    "            "
   ]
  },
  {
   "cell_type": "code",
   "execution_count": 875,
   "metadata": {},
   "outputs": [],
   "source": [
    "# Borrow agents lever up on ETH collateral by selling pyTokens\n",
    "class BorrowAgent(Agent):\n",
    "    def __init__(self, _interface):\n",
    "        super().__init__(_interface)\n",
    "        self.address = random.choice(accounts)\n",
    "        \n",
    "    def setup(self):\n",
    "        self.initialB = min(Decimal(round(numpy.random.lognormal(7, 1))), Decimal(100))\n",
    "        self.interface.B.mint(self.address, fNumber(self.initialB ))\n",
    "        BReserve = self.initialB * Decimal('0.1')\n",
    "        self.each = (self.initialB - BReserve)/2\n",
    "        self.interface.B.approve(self.address, self.interface.pyA.pytoken.address, fNumber(self.each))\n",
    "        self.interface.pyA.addCollateral(self.address, fNumber(self.each) )\n",
    "        self.collateralizationRatio = unNumber(self.interface.pyA.collateralizationRatio())\n",
    "        \n",
    "        # Below needs updated\n",
    "        # price = self.interface.ethAOracle.getPriceInToken(self.interface.A)\n",
    "        self.desiredBorrow = Decimal('0.5')*unNumber(self.interface.oracle.endTWAP())*self.each\n",
    "        \n",
    "        self.interface.A.mint(self.address, fNumber(self.desiredBorrow*1000))\n",
    "        self.lowerRate = Decimal(numpy.random.uniform(0,10) / 100)\n",
    "        self.upperRate = self.lowerRate + Decimal(numpy.random.uniform(0,5) / 100)\n",
    "        print(\"Borrow Agent lower Rate: {} Upper Rate: {}\".format(self.lowerRate , self.upperRate))\n",
    "    \n",
    "    def maximumBorrow(self): \n",
    "        return unNumber(self.interface.pyA.getCollateralBalance(self.address))* unNumber(self.interface.oracle.endTWAP())/  \\\n",
    "                    (self.collateralizationRatio)\n",
    "    \n",
    "    def performActions(self):\n",
    "        rate = self.interface.pyA.yearlyRate()\n",
    "        if rate > self.upperRate:\n",
    "            self.unBorrow()\n",
    "        elif rate < self.lowerRate:\n",
    "            self.borrow()\n",
    "        uAmount = min(unNumber(self.interface.pyA.balanceOfUnderlying(self.address)), unNumber(self.interface.pyA.underlyingHeld()))\n",
    "        if uAmount > Decimal('0.1'):\n",
    "            self.interface.pyA.redeem(self.address, fNumber(Decimal(uAmount)*Decimal(.99)))\n",
    "            print(\"Withdrew {} tokens at {}\".format(round(uAmount*Decimal(.99), 4), round(self.lowerRate, 4) ))\n",
    "            \n",
    "            \n",
    "    def borrow(self):\n",
    "        price = unNumber(self.interface.oracle.endTWAP())\n",
    "        #if we've already mostly borrowed what we desire, let's stop\n",
    "        debt = unNumber(self.interface.pyA.debtInUnderlying( self.address))\n",
    "        if debt > (Decimal('.99') * self.desiredBorrow):\n",
    "            return\n",
    "        #initiate borrow\n",
    "        borrowRatio = Decimal('0.5')\n",
    "        amount = self.maximumBorrow() - debt\n",
    "        borrow = (Decimal(amount) * borrowRatio) / Decimal(self.collateralizationRatio )\n",
    "        if borrow > Decimal('0.1'):\n",
    "            collateralToLock = fNumber((borrow * self.collateralizationRatio * Decimal(1.01)) / price)\n",
    "            try:\n",
    "                self.interface.pyA.completeBorrow(\"ETH\", self.address, fNumber(borrow), collateralToLock)\n",
    "            except:\n",
    "                print(\"failed to borrow. To borrow: {} collateral: {}\".format(borrow, unNumber(collateralToLock)))\n",
    "            # self.interface.pyA.borrow(\"ETH\", self.address, fNumber(borrow))\n",
    "            print(\"Borrowed {} tokens at {}\".format(round(borrow, 4), round(self.lowerRate, 4) ))\n",
    "\n",
    "    \n",
    "    def unBorrow(self):\n",
    "        amount = Decimal('0.95') * unNumber(self.interface.pyA.debtInUnderlying(self.address))\n",
    "        #funds = self.interface.A.balanceOf(self.address)\n",
    "        #toUnBorrow = min(debt, funds)\n",
    "        if amount > Decimal('0.1'):\n",
    "            try:\n",
    "                self.interface.A.approve(self.address, self.interface.pyA.pytoken.address, fNumber(amount*Decimal(1.01)))\n",
    "                self.interface.A.mint(self.address, fNumber(amount*Decimal(1.01)))\n",
    "                self.interface.A.approve(self.address, self.interface.pyA.pytoken.address, fNumber(amount*Decimal(1.005)))\n",
    "                self.interface.pyA.mint(self.address, fNumber(amount*Decimal(1.005)))\n",
    "                self.interface.pyA.repay(\"ETH\", self.address, fNumber(amount))\n",
    "                print(\"unBorrowed {} tokens at {}\".format(round(amount, 4), round(self.upperRate, 4) ))\n",
    "            except Exception as e: \n",
    "                print(\"failed to unborrow. amount:{} underlying balance: {} pyTokens: {} \".format(amount, self.interface.A.balanceOf(self.address), self.interface.pyA.balanceOfUnderlying(self.address)))\n",
    "                raise e\n",
    "    \n"
   ]
  },
  {
   "cell_type": "code",
   "execution_count": null,
   "metadata": {},
   "outputs": [],
   "source": []
  },
  {
   "cell_type": "markdown",
   "metadata": {},
   "source": [
    "## Simulation Loop"
   ]
  },
  {
   "cell_type": "code",
   "execution_count": 876,
   "metadata": {},
   "outputs": [
    {
     "name": "stdout",
     "output_type": "stream",
     "text": [
      "b'All contracts have already been compiled, skipping compilation.\\nCollateral address: 0xed4aD068e07A8F97Ee8863bEB98A34e93a62CEC7\\nUnderlying address: 0x3F9A2a083787f791840b41ACCc2c81718DcAAD5c\\nOracle address: 0x97035A8889E88F0391920d0ca79BeF8Ea0B2f40D\\npyToken address: 0x059c59322258E708b903dAa3d1E2D8f55EF0fF75\\n{\\n    \"collateral\": \"0xed4aD068e07A8F97Ee8863bEB98A34e93a62CEC7\",\\n    \"underlying\": \"0x3F9A2a083787f791840b41ACCc2c81718DcAAD5c\",\\n    \"oracle\": \"0x97035A8889E88F0391920d0ca79BeF8Ea0B2f40D\",\\n    \"pytoken\": \"0x059c59322258E708b903dAa3d1E2D8f55EF0fF75\"\\n}\\n'\n"
     ]
    }
   ],
   "source": [
    "# re-deploy contract\n",
    "output = subprocess.check_output('npx buidler --network localhost run scripts/pyTokenTest.js', shell=True)\n",
    "print(output)"
   ]
  },
  {
   "cell_type": "code",
   "execution_count": 877,
   "metadata": {},
   "outputs": [],
   "source": [
    "with open('./artifacts/addresses.json') as file:\n",
    "    addresses = json.load(file)\n",
    "\n",
    "collateral = getContract('./artifacts/Collateral.json', addresses['collateral'])\n",
    "underlying = getContract('./artifacts/Underlying.json', addresses['underlying'])\n",
    "oracle = getContract('./artifacts/Oracle.json', addresses['oracle'])\n",
    "pytoken = getContract('./artifacts/pyToken.json', addresses['pytoken'])"
   ]
  },
  {
   "cell_type": "code",
   "execution_count": 878,
   "metadata": {},
   "outputs": [],
   "source": [
    "ctoken = Token(\"collateral\", collateral)\n",
    "utoken = Token(\"underlying\", underlying)\n",
    "pyoracle = Oracle(oracle)\n",
    "pyA = pyToken(pytoken)"
   ]
  },
  {
   "cell_type": "code",
   "execution_count": 879,
   "metadata": {},
   "outputs": [
    {
     "data": {
      "text/plain": [
       "2000000000000000000"
      ]
     },
     "execution_count": 879,
     "metadata": {},
     "output_type": "execute_result"
    }
   ],
   "source": [
    "price = (2*10**18)\n",
    "oracle.functions.updatePrice(price).transact({'from': accounts[0]})\n",
    "pyoracle.endTWAP()"
   ]
  },
  {
   "cell_type": "code",
   "execution_count": 880,
   "metadata": {},
   "outputs": [
    {
     "name": "stdout",
     "output_type": "stream",
     "text": [
      "Yield Agent lower Rate: 0.003578800634507367690873014254293593694455921649932861328125 Upper Rate: 0.01801983705124229288158099749\n",
      "Borrow Agent lower Rate: 0.093571062716017838756243918396648950874805450439453125 Upper Rate: 0.09769263289788855404022216433\n",
      "Yield Agent lower Rate: 0.007032187411091283917030647643287011305801570415496826171875 Upper Rate: 0.007185548950934432613788307997\n",
      "Yield Agent lower Rate: 0.01245956256184377504425686566946751554496586322784423828125 Upper Rate: 0.02975541894844442418477381551\n",
      "Yield Agent lower Rate: 0.0112817788338159495642454288599765277467668056488037109375 Upper Rate: 0.01194989827612454632698585355\n",
      "Yield Agent lower Rate: 0.01036048412360866810555393158210790716111660003662109375 Upper Rate: 0.02552441068578819617640451867\n",
      "Yield Agent lower Rate: 0.003246547621020049421980413484334349050186574459075927734375 Upper Rate: 0.01498969296662951405235686408\n",
      "Borrow Agent lower Rate: 0.04276102112444286895698297712442581541836261749267578125 Upper Rate: 0.07193942940703744459707280612\n",
      "Borrow Agent lower Rate: 0.02797202703050648275873157899695797823369503021240234375 Upper Rate: 0.05418066080417887828146739082\n",
      "Borrowed 20.0000 tokens at 0.0936\n",
      "Borrowed 6.6000 tokens at 0.0936\n",
      "Borrowed 20.0000 tokens at 0.0428\n",
      "Borrowed 20.0000 tokens at 0.0280\n",
      "Borrowed 2.1780 tokens at 0.0936\n",
      "Borrowed 6.6000 tokens at 0.0428\n",
      "Borrowed 6.6000 tokens at 0.0280\n",
      "Borrowed 0.7187 tokens at 0.0936\n",
      "Borrowed 2.1780 tokens at 0.0428\n",
      "Borrowed 2.1780 tokens at 0.0280\n",
      "Borrowed 0.2372 tokens at 0.0936\n",
      "Borrowed 0.7187 tokens at 0.0428\n",
      "Borrowed 0.7187 tokens at 0.0280\n",
      "Borrowed 0.2372 tokens at 0.0428\n",
      "Borrowed 0.2372 tokens at 0.0280\n",
      "Borrow Agent lower Rate: 0.0261319161109057583602943708456223248504102230072021484375 Upper Rate: 0.07001616366999338300636246402\n",
      "Borrowed 20.0000 tokens at 0.0261\n",
      "Borrowed 6.6000 tokens at 0.0261\n",
      "Borrowed 2.1780 tokens at 0.0261\n",
      "Borrowed 0.7187 tokens at 0.0261\n",
      "Borrowed 0.2372 tokens at 0.0261\n",
      "HODLing 48 tokens at rate 0.0072\n",
      "Withdrew 29.4366 tokens at 0.0428\n",
      "Withdrew 18.3778 tokens at 0.0280\n",
      "Withdrew 0.1838 tokens at 0.0261\n",
      "HODLing 42 tokens at rate 0.0119\n",
      "Withdrew 0.2944 tokens at 0.0428\n",
      "Withdrew 11.2426 tokens at 0.0280\n",
      "Withdrew 29.2546 tokens at 0.0261\n",
      "Withdrew 1.1982 tokens at 0.0936\n",
      "HODLing 7 tokens at rate 0.0150\n",
      "Withdrew 0.1124 tokens at 0.0280\n",
      "Withdrew 0.2925 tokens at 0.0261\n",
      "Withdrew 6.5411 tokens at 0.0936\n",
      "Yield Agent lower Rate: 0.0138506480175939299115395186845489661209285259246826171875 Upper Rate: 0.03282270892710868054331641019\n",
      "HODLing 5 tokens at rate 0.0180\n",
      "Withdrew 5.0154 tokens at 0.0936\n",
      "Yield Agent lower Rate: 0.01866493029348982590764904898605891503393650054931640625 Upper Rate: 0.02935144440115289125869946218\n",
      "HODLing 15 tokens at rate 0.0255\n",
      "Yield Agent lower Rate: 0.0297864491928691056676914428180680260993540287017822265625 Upper Rate: 0.04148931711649792887508514383\n",
      "Withdrew 14.9002 tokens at 0.0936\n",
      "Withdrew 0.1490 tokens at 0.0936\n",
      "Yield Agent lower Rate: 0.0144416365896060348850138410625731921754777431488037109375 Upper Rate: 0.01832256560749188955064536977\n",
      "HODLing 4 tokens at rate 0.0183\n",
      "Withdrew 1.9108 tokens at 0.0936\n",
      "Yield Agent lower Rate: 0.0273585130017066045782225813809418468736112117767333984375 Upper Rate: 0.04460547788340885402846858199\n",
      "HODLing 10 tokens at rate 0.0294\n",
      "Withdrew 9.9029 tokens at 0.0261\n",
      "HODLing 29 tokens at rate 0.0298\n",
      "Withdrew 0.0990 tokens at 0.0261\n",
      "Yield Agent lower Rate: 0.0023779755396102007607150863321976430597715079784393310546875 Upper Rate: 0.007887736413553568786544145652\n",
      "HODLing 56 tokens at rate 0.0079\n",
      "Yield Agent lower Rate: 0.0250013174152261367921834533945002476684749126434326171875 Upper Rate: 0.02864427917070302021668171122\n",
      "Borrow Agent lower Rate: 0.09747073073297572720630199683000682853162288665771484375 Upper Rate: 0.1127224158591936774287400880\n",
      "Borrowed 20.0000 tokens at 0.0975\n",
      "Withdrew 19.8000 tokens at 0.0975\n",
      "Borrowed 6.6000 tokens at 0.0975\n",
      "Withdrew 6.7320 tokens at 0.0975\n",
      "Borrowed 2.1780 tokens at 0.0975\n",
      "Withdrew 2.2235 tokens at 0.0975\n",
      "Borrowed 0.7187 tokens at 0.0975\n",
      "Withdrew 0.7338 tokens at 0.0975\n",
      "Borrowed 0.2372 tokens at 0.0975\n",
      "Withdrew 0.2422 tokens at 0.0975\n",
      "Yield Agent lower Rate: 0.0196712818778182439716228913084705709479749202728271484375 Upper Rate: 0.03611742942690316857112797777\n",
      "HODLing 257 tokens at rate 0.0286\n",
      "Yield Agent lower Rate: 0.0202269191063397212049235207587116747163236141204833984375 Upper Rate: 0.03787016851404005624015525200\n",
      "Yield Agent lower Rate: 0.0059555855537401329591329357526774401776492595672607421875 Upper Rate: 0.02076087532390401974025095910\n",
      "Borrow Agent lower Rate: 0.0228820569799071359129438718582605361007153987884521484375 Upper Rate: 0.04305671978059455798359955736\n",
      "Borrowed 20.0000 tokens at 0.0229\n",
      "Withdrew 26.7300 tokens at 0.0229\n",
      "Borrow Agent lower Rate: 0.050077039756024212258100902772639528848230838775634765625 Upper Rate: 0.06459198379271965072268013586\n",
      "Borrowed 20.0783 tokens at 0.0280\n",
      "Withdrew 19.8786 tokens at 0.0280\n",
      "Borrowed 6.6000 tokens at 0.0229\n",
      "Withdrew 6.8013 tokens at 0.0229\n",
      "Withdrew 0.1988 tokens at 0.0501\n",
      "Borrowed 2.1780 tokens at 0.0229\n",
      "Withdrew 2.2242 tokens at 0.0229\n",
      "Yield Agent lower Rate: 0.004654803812467280844933359418291729525662958621978759765625 Upper Rate: 0.01937634470731592045006363989\n",
      "Borrowed 0.7187 tokens at 0.0229\n",
      "Withdrew 0.7338 tokens at 0.0229\n",
      "Yield Agent lower Rate: 0.005600046256881274948924431811292379279620945453643798828125 Upper Rate: 0.02547429199243059303597869203\n",
      "Borrowed 0.2372 tokens at 0.0229\n",
      "Withdrew 0.2422 tokens at 0.0229\n",
      "Yield Agent lower Rate: 0.0065240991682655700978354929020497365854680538177490234375 Upper Rate: 0.01819000151188961134085531057\n",
      "Borrow Agent lower Rate: 0.08831930764843842762701342508080415427684783935546875 Upper Rate: 0.1365674841987258789077763765\n",
      "Borrowed 11.6000 tokens at 0.0883\n",
      "Withdrew 15.4440 tokens at 0.0883\n",
      "Borrowed 3.8280 tokens at 0.0883\n",
      "Withdrew 3.9442 tokens at 0.0883\n",
      "Borrowed 1.2632 tokens at 0.0883\n",
      "Withdrew 1.2900 tokens at 0.0883\n",
      "Borrowed 0.4169 tokens at 0.0883\n",
      "Withdrew 0.4256 tokens at 0.0883\n",
      "Borrowed 0.1376 tokens at 0.0883\n",
      "Withdrew 0.1404 tokens at 0.0883\n",
      "Yield Agent lower Rate: 0.0238919526509052508600472464195263455621898174285888671875 Upper Rate: 0.03445989937290963242566554925\n",
      "Yield Agent lower Rate: 0.0175601265703620827707265306116823921911418437957763671875 Upper Rate: 0.02195668023263539977985026042\n"
     ]
    }
   ],
   "source": [
    "import numpy\n",
    "\n",
    "chain = blockchain(1,1)\n",
    "#tokenA = Token(\"TokenA\")\n",
    "#tokenB = Token(\"TokenB\")\n",
    "#oracle = Oracle(tokenA, tokenB)\n",
    "#oracle.setPrice(Decimal('1'))\n",
    "interface = Interface(chain, utoken, ctoken, pyoracle, pyA)\n",
    "\n",
    "#interface.pyA.interestUpdateAmount = Decimal('0.0001')\n",
    "#interface.pyA.reservesTarget = Decimal('0.25')\n",
    "#interface.pyA.minimumSpread = Decimal('0.0')\n",
    "#interface.pyA.adjustmentFreeWindow = Decimal('0.01')\n",
    "\n",
    "# tracking variables\n",
    "pyAinterest = []\n",
    "pyBinterest = []\n",
    "qxA = []\n",
    "qxB = []\n",
    "pyratesA = []\n",
    "debtratesA = []\n",
    "tSupply = []\n",
    "ulying = []\n",
    "debtOutstanding = []\n",
    "debtSupplyRatio = []\n",
    "feeIncome = []\n",
    "rateA = []\n",
    "\n",
    "\n",
    "# Initial positions\n",
    "#interface.A.mint(\"HODL\", Decimal(100000))\n",
    "#interface.B.mint(\"HODL\", Decimal(100000))\n",
    "\n",
    "#interface.pyA.addCollateral(\"ETH\", \"BU\", Decimal(100) )\n",
    "#interface.pyB.addCollateral(\"ETH\", \"BU\", Decimal(100) )\n",
    "\n",
    "#price = interface.ethAOracle.getPriceInToken(interface.A)\n",
    "#borrow = (Decimal(25) * price) / (interface.pyA.collateralizationRatio )\n",
    "#borrow = Decimal(100)\n",
    "#interface.pyA.borrow(\"ETH\", \"BU\", borrow)\n",
    "#interface.qxA.mint(\"HODL\", Decimal(1500 * 0.15))\n",
    "\n",
    "#Create users\n",
    "\n",
    "user1 = YieldAgent(interface)\n",
    "user2 = BorrowAgent(interface)\n",
    "users = [user1, user2]\n",
    "\n",
    "#users = []\n",
    "for x in range(5):\n",
    "    users.append(YieldAgent(interface))\n",
    "    \n",
    "for y in range(2):\n",
    "    users.append(BorrowAgent(interface))\n",
    "\n",
    "# Setup\n",
    "for user in users:\n",
    "    user.setup()\n",
    "\n",
    "user2.borrow()\n",
    "# Run\n",
    "for block in range(500):\n",
    "    \n",
    "    # skip some blocks\n",
    "    #if numpy.random.uniform(0,100) < 80:\n",
    "    #    continue\n",
    "    \n",
    "    # perform interest rate update at beginning of block\n",
    "    interface.eachBlock()\n",
    "    interface.pyA.updateBlock(block)\n",
    "    \n",
    "    # add users\n",
    "    if numpy.random.uniform(0,100) < 4:\n",
    "        if numpy.random.uniform(0,100) < 40:\n",
    "            newAgent = BorrowAgent(interface)\n",
    "            newAgent.setup()\n",
    "            users.append(newAgent)\n",
    "        else:\n",
    "            newAgent = YieldAgent(interface)\n",
    "            newAgent.setup()\n",
    "            users.append(newAgent)\n",
    "    \n",
    "    for user in users:\n",
    "        user.performActions()\n",
    "    \n",
    "    pyAinterest.append(float(interface.pyA.yearlyRate()))\n",
    "    totalSupply = interface.pyA.totalSupply()\n",
    "    if totalSupply > 0:\n",
    "        debtSupplyRatio.append(float(interface.pyA.getTotalDebt()/totalSupply))\n",
    "    else:\n",
    "        debtSupplyRatio.append(0)\n",
    "    qxA.append(float(interface.pyA.getReserveRatio()))\n",
    "    debtOutstanding.append(float(interface.pyA.getTotalDebt()))\n",
    "    pyratesA.append(float(interface.pyA.yearlyRate()))\n",
    "    debtratesA.append(float(interface.pyA.yearlyDebtRate()))\n",
    "    tSupply.append(float(totalSupply))\n",
    "    ulying.append(float(interface.pyA.underlyingHeld()))\n",
    "    rateA.append(float(interface.pyA.rateAccumulator()))\n",
    "    #feeIncome.append(float(interface.pyA.totalFeeIncome()))\n",
    "# Shutdown\n",
    "for user in users:\n",
    "    user.shutdown()"
   ]
  },
  {
   "cell_type": "code",
   "execution_count": 881,
   "metadata": {},
   "outputs": [
    {
     "data": {
      "text/plain": [
       "<matplotlib.axes._subplots.AxesSubplot at 0x125fa8750>"
      ]
     },
     "execution_count": 881,
     "metadata": {},
     "output_type": "execute_result"
    },
    {
     "data": {
      "image/png": "[encoded data removed]",
      "text/plain": [
       "<Figure size 432x288 with 1 Axes>"
      ]
     },
     "metadata": {
      "needs_background": "light"
     },
     "output_type": "display_data"
    }
   ],
   "source": [
    "pandas.Series(debtOutstanding, name=\"debt\").plot(legend=True)\n",
    "pandas.Series(tSupply, name=\"pyTokens\").plot(legend=True)\n",
    "pandas.Series(ulying, name=\"underlying\").plot(legend=True)"
   ]
  },
  {
   "cell_type": "code",
   "execution_count": 882,
   "metadata": {},
   "outputs": [
    {
     "data": {
      "text/plain": [
       "<matplotlib.axes._subplots.AxesSubplot at 0x1268a8550>"
      ]
     },
     "execution_count": 882,
     "metadata": {},
     "output_type": "execute_result"
    },
    {
     "data": {
      "image/png": "[encoded data removed]",
      "text/plain": [
       "<Figure size 432x288 with 1 Axes>"
      ]
     },
     "metadata": {
      "needs_background": "light"
     },
     "output_type": "display_data"
    }
   ],
   "source": [
    "pandas.Series(tSupply, name=\"pyTokens\").plot(legend=True)"
   ]
  },
  {
   "cell_type": "code",
   "execution_count": 883,
   "metadata": {},
   "outputs": [
    {
     "data": {
      "text/plain": [
       "<matplotlib.axes._subplots.AxesSubplot at 0x12543b510>"
      ]
     },
     "execution_count": 883,
     "metadata": {},
     "output_type": "execute_result"
    },
    {
     "data": {
      "image/png": "[encoded data removed]",
      "text/plain": [
       "<Figure size 432x288 with 1 Axes>"
      ]
     },
     "metadata": {
      "needs_background": "light"
     },
     "output_type": "display_data"
    }
   ],
   "source": [
    "pandas.Series(qxA, name=\"Reserve Ratio\").plot(legend=True)"
   ]
  },
  {
   "cell_type": "code",
   "execution_count": 884,
   "metadata": {},
   "outputs": [
    {
     "data": {
      "text/plain": [
       "<matplotlib.axes._subplots.AxesSubplot at 0x12768d350>"
      ]
     },
     "execution_count": 884,
     "metadata": {},
     "output_type": "execute_result"
    },
    {
     "data": {
      "image/png": "[encoded data removed]",
      "text/plain": [
       "<Figure size 432x288 with 1 Axes>"
      ]
     },
     "metadata": {
      "needs_background": "light"
     },
     "output_type": "display_data"
    }
   ],
   "source": [
    "pandas.Series(pyratesA, name=\"pyToken yield\").plot(legend=True)\n",
    "pandas.Series(debtratesA,name=\"borrow rate\").plot(legend=True)"
   ]
  },
  {
   "cell_type": "code",
   "execution_count": 869,
   "metadata": {},
   "outputs": [
    {
     "data": {
      "text/plain": [
       "<matplotlib.axes._subplots.AxesSubplot at 0x1273a17d0>"
      ]
     },
     "execution_count": 869,
     "metadata": {},
     "output_type": "execute_result"
    },
    {
     "data": {
      "image/png": "[encoded data removed]",
      "text/plain": [
       "<Figure size 432x288 with 1 Axes>"
      ]
     },
     "metadata": {
      "needs_background": "light"
     },
     "output_type": "display_data"
    }
   ],
   "source": [
    "\n"
   ]
  },
  {
   "cell_type": "code",
   "execution_count": 885,
   "metadata": {},
   "outputs": [
    {
     "data": {
      "text/plain": [
       "<matplotlib.axes._subplots.AxesSubplot at 0x127ac2b50>"
      ]
     },
     "execution_count": 885,
     "metadata": {},
     "output_type": "execute_result"
    },
    {
     "data": {
      "image/png": "[encoded data removed]",
      "text/plain": [
       "<Figure size 432x288 with 1 Axes>"
      ]
     },
     "metadata": {
      "needs_background": "light"
     },
     "output_type": "display_data"
    }
   ],
   "source": [
    "pandas.Series(debtSupplyRatio,name=\"Debt Supply Ratio\").plot(legend=True)"
   ]
  },
  {
   "cell_type": "code",
   "execution_count": 870,
   "metadata": {},
   "outputs": [
    {
     "data": {
      "text/plain": [
       "{'addCollateral': 12,\n",
       " 'collateralizationRatio': 12,\n",
       " 'debtInUnderlying': 2898,\n",
       " 'getCollateralBalance': 1774,\n",
       " 'completeBorrow': 57,\n",
       " 'updateRates': 500,\n",
       " 'accrueInterest': 500,\n",
       " 'lastBlockInterest': 500,\n",
       " 'balanceOf': 4126,\n",
       " 'rateAccumulator': 500,\n",
       " 'underlyingHeld': 120,\n",
       " 'totalSupply': 500,\n",
       " 'getTotalDebt': 1000,\n",
       " 'getReserveRatio': 500,\n",
       " 'debtRate': 500,\n",
       " 'mint': 47,\n",
       " 'redeem': 75,\n",
       " 'repay': 29}"
      ]
     },
     "execution_count": 870,
     "metadata": {},
     "output_type": "execute_result"
    }
   ],
   "source": [
    "pyA._counts"
   ]
  },
  {
   "cell_type": "code",
   "execution_count": 811,
   "metadata": {},
   "outputs": [
    {
     "data": {
      "text/plain": [
       "1172290.0"
      ]
     },
     "execution_count": 811,
     "metadata": {},
     "output_type": "execute_result"
    }
   ],
   "source": [
    "utoken.contract.functions.totalSupply().call()/10**18"
   ]
  },
  {
   "cell_type": "code",
   "execution_count": 812,
   "metadata": {},
   "outputs": [
    {
     "data": {
      "text/plain": [
       "2600.0"
      ]
     },
     "execution_count": 812,
     "metadata": {},
     "output_type": "execute_result"
    }
   ],
   "source": [
    "ctoken.contract.functions.totalSupply().call()/10**18"
   ]
  },
  {
   "cell_type": "code",
   "execution_count": 804,
   "metadata": {},
   "outputs": [
    {
     "data": {
      "text/plain": [
       "29.73625778526433"
      ]
     },
     "execution_count": 804,
     "metadata": {},
     "output_type": "execute_result"
    }
   ],
   "source": [
    "pyA.debtInUnderlying(users[1].address)/10**18"
   ]
  },
  {
   "cell_type": "code",
   "execution_count": 805,
   "metadata": {},
   "outputs": [
    {
     "data": {
      "text/plain": [
       "{'addCollateral': 26,\n",
       " 'collateralizationRatio': 26,\n",
       " 'debtInUnderlying': 9179,\n",
       " 'getCollateralBalance': 1567,\n",
       " 'completeBorrow': 54,\n",
       " 'updateRates': 736,\n",
       " 'accrueInterest': 736,\n",
       " 'lastBlockInterest': 736,\n",
       " 'balanceOf': 10635,\n",
       " 'rateAccumulator': 11370,\n",
       " 'underlyingHeld': 11370,\n",
       " 'totalSupply': 735,\n",
       " 'getTotalDebt': 1470,\n",
       " 'getReserveRatio': 735,\n",
       " 'debtRate': 735,\n",
       " 'mint': 5220,\n",
       " 'redeem': 6272}"
      ]
     },
     "execution_count": 805,
     "metadata": {},
     "output_type": "execute_result"
    }
   ],
   "source": [
    "pyA._counts"
   ]
  },
  {
   "cell_type": "code",
   "execution_count": 413,
   "metadata": {},
   "outputs": [
    {
     "data": {
      "text/plain": [
       "'0x704cF59B16Fd50Efd575342B46Ce9C5e07076A4a'"
      ]
     },
     "execution_count": 413,
     "metadata": {},
     "output_type": "execute_result"
    }
   ],
   "source": [
    "user2.address"
   ]
  },
  {
   "cell_type": "code",
   "execution_count": 414,
   "metadata": {},
   "outputs": [
    {
     "name": "stdout",
     "output_type": "stream",
     "text": [
      "Borrowed 3.2000 tokens at 0.0229\n"
     ]
    }
   ],
   "source": [
    "user2.borrow()"
   ]
  },
  {
   "cell_type": "code",
   "execution_count": null,
   "metadata": {},
   "outputs": [],
   "source": [
    "    def borrow(self):\n",
    "        price = unNumber(self.interface.oracle.endTWAP())\n",
    "        #if we've already mostly borrowed what we desire, let's stop\n",
    "        if unNumber(self.interface.pyA.debtInUnderlying(\"ETH\", self.address)) > Decimal('.99') * self.desiredBorrow:\n",
    "            return\n",
    "        #initiate borrow\n",
    "        borrowRatio = Decimal('0.5')\n",
    "        amount = self.maximumBorrow() - unNumber(self.interface.pyA.debtInUnderlying(\"ETH\", self.address))\n",
    "        borrow = (Decimal(amount) * borrowRatio) / Decimal(self.collateralizationRatio )\n",
    "        if borrow > Decimal('0.1'):\n",
    "            self.interface.pyA.borrow(\"ETH\", self.address, fNumber(borrow))\n",
    "            print(\"Borrowed {} tokens at {}\".format(round(borrow, 4), round(self.lowerRate, 4) ))"
   ]
  },
  {
   "cell_type": "code",
   "execution_count": 388,
   "metadata": {},
   "outputs": [
    {
     "data": {
      "text/plain": [
       "Decimal('2')"
      ]
     },
     "execution_count": 388,
     "metadata": {},
     "output_type": "execute_result"
    }
   ],
   "source": [
    "price = unNumber(pyoracle.endTWAP())\n",
    "price"
   ]
  },
  {
   "cell_type": "code",
   "execution_count": 390,
   "metadata": {},
   "outputs": [
    {
     "data": {
      "text/plain": [
       "Decimal('0')"
      ]
     },
     "execution_count": 390,
     "metadata": {},
     "output_type": "execute_result"
    }
   ],
   "source": [
    "unNumber(pyA.debtInUnderlying( user2.address))"
   ]
  },
  {
   "cell_type": "code",
   "execution_count": 282,
   "metadata": {},
   "outputs": [],
   "source": [
    "borrowRatio = Decimal('0.5')"
   ]
  },
  {
   "cell_type": "code",
   "execution_count": 391,
   "metadata": {},
   "outputs": [
    {
     "data": {
      "text/plain": [
       "Decimal('1.08E-17')"
      ]
     },
     "execution_count": 391,
     "metadata": {},
     "output_type": "execute_result"
    }
   ],
   "source": [
    "user2.maximumBorrow()"
   ]
  },
  {
   "cell_type": "code",
   "execution_count": 393,
   "metadata": {},
   "outputs": [
    {
     "data": {
      "text/plain": [
       "0"
      ]
     },
     "execution_count": 393,
     "metadata": {},
     "output_type": "execute_result"
    }
   ],
   "source": [
    "pyA.debtInUnderlying(user2.address)"
   ]
  },
  {
   "cell_type": "code",
   "execution_count": 485,
   "metadata": {},
   "outputs": [
    {
     "data": {
      "text/plain": [
       "Decimal('0.120745737041099193669730801')"
      ]
     },
     "execution_count": 485,
     "metadata": {},
     "output_type": "execute_result"
    }
   ],
   "source": [
    "pyA.yearlyDebtRate()"
   ]
  },
  {
   "cell_type": "code",
   "execution_count": null,
   "metadata": {},
   "outputs": [],
   "source": [
    "pyA.pytoken.functions.getCollateralBalance(address).call()"
   ]
  },
  {
   "cell_type": "code",
   "execution_count": 486,
   "metadata": {},
   "outputs": [
    {
     "data": {
      "text/plain": [
       "Decimal('3.41987375476640881E-10')"
      ]
     },
     "execution_count": 486,
     "metadata": {},
     "output_type": "execute_result"
    }
   ],
   "source": [
    "pyA.yearlyRate()"
   ]
  },
  {
   "cell_type": "code",
   "execution_count": null,
   "metadata": {},
   "outputs": [],
   "source": [
    "    def maximumBorrow(self): \n",
    "        return unNumber(self.interface.pyA.getCollateralBalance(self.address))* unNumber(self.interface.oracle.endTWAP())/  \\\n",
    "                    (self.collateralizationRatio * 10**18)\n",
    "    "
   ]
  },
  {
   "cell_type": "code",
   "execution_count": 252,
   "metadata": {},
   "outputs": [
    {
     "data": {
      "text/plain": [
       "Decimal('0.00001')"
      ]
     },
     "execution_count": 252,
     "metadata": {},
     "output_type": "execute_result"
    }
   ],
   "source": [
    "unNumber(10000000000000)"
   ]
  },
  {
   "cell_type": "code",
   "execution_count": 396,
   "metadata": {},
   "outputs": [
    {
     "data": {
      "text/plain": [
       "Decimal('8.1')"
      ]
     },
     "execution_count": 396,
     "metadata": {},
     "output_type": "execute_result"
    }
   ],
   "source": [
    "unNumber(pyA.getCollateralBalance(user2.address))"
   ]
  },
  {
   "cell_type": "code",
   "execution_count": 398,
   "metadata": {},
   "outputs": [
    {
     "data": {
      "text/plain": [
       "Decimal('2')"
      ]
     },
     "execution_count": 398,
     "metadata": {},
     "output_type": "execute_result"
    }
   ],
   "source": [
    "unNumber(pyoracle.endTWAP())"
   ]
  },
  {
   "cell_type": "code",
   "execution_count": 399,
   "metadata": {},
   "outputs": [
    {
     "data": {
      "text/plain": [
       "Decimal('1.5')"
      ]
     },
     "execution_count": 399,
     "metadata": {},
     "output_type": "execute_result"
    }
   ],
   "source": [
    "user2.collateralizationRatio"
   ]
  },
  {
   "cell_type": "code",
   "execution_count": null,
   "metadata": {},
   "outputs": [],
   "source": [
    "    debtRate '1.0000000000316216e+27'\n",
    "    Time\n",
    "    3\n",
    "    ADIMs '1.0000000000948648e+27'\n",
    "    DebtAccumulator  '1.0000000006355936e+27'\n",
    "    DebtAccumulator  '1.0000000007304584e+27'\n",
    "    All Debt  '28725686234749264000'\n",
    "    New Debt  '2725054080'\n",
    "    Fee Income '2725054'\n",
    "    Total pyTokens '2.8725686213766347e+28'\n",
    "    Total Supply '28725686213766350000'\n",
    "    Rate Accumulator '1e+27'\n",
    "    Last Block Interest '1e+27'"
   ]
  },
  {
   "cell_type": "code",
   "execution_count": 530,
   "metadata": {},
   "outputs": [],
   "source": [
    "newDebt = 1624114215\n",
    "totalPyTokens = 2.8725686213766347 * 10**28\n",
    "totalSupply = 28725686213766350000"
   ]
  },
  {
   "cell_type": "code",
   "execution_count": 554,
   "metadata": {},
   "outputs": [
    {
     "data": {
      "text/plain": [
       "2.872568621376635e+28"
      ]
     },
     "execution_count": 554,
     "metadata": {},
     "output_type": "execute_result"
    }
   ],
   "source": [
    "newDebt + ((28725686213766350000) * 10**27 / 10**18)"
   ]
  },
  {
   "cell_type": "code",
   "execution_count": 556,
   "metadata": {},
   "outputs": [
    {
     "data": {
      "text/plain": [
       "2.72505408e-18"
      ]
     },
     "execution_count": 556,
     "metadata": {},
     "output_type": "execute_result"
    }
   ],
   "source": [
    "2725054080 / 10**27"
   ]
  },
  {
   "cell_type": "code",
   "execution_count": 555,
   "metadata": {},
   "outputs": [
    {
     "data": {
      "text/plain": [
       "2.872568621376635e+28"
      ]
     },
     "execution_count": 555,
     "metadata": {},
     "output_type": "execute_result"
    }
   ],
   "source": [
    "((28725686213766350000) * 10**27 / 10**18)"
   ]
  },
  {
   "cell_type": "code",
   "execution_count": 544,
   "metadata": {},
   "outputs": [
    {
     "data": {
      "text/plain": [
       "9.48647637328855e+16"
      ]
     },
     "execution_count": 544,
     "metadata": {},
     "output_type": "execute_result"
    }
   ],
   "source": [
    "1.0000000007304584*10**27 - 1.0000000006355936*10**27"
   ]
  },
  {
   "cell_type": "code",
   "execution_count": 546,
   "metadata": {},
   "outputs": [
    {
     "data": {
      "text/plain": [
       "94864763.80218025"
      ]
     },
     "execution_count": 546,
     "metadata": {},
     "output_type": "execute_result"
    }
   ],
   "source": [
    "(1.0000000007304584*10**27 - 1.0000000006355936*10**27)*28725686234749264000/(28725686213766350000 * 10**9)"
   ]
  },
  {
   "cell_type": "code",
   "execution_count": 547,
   "metadata": {},
   "outputs": [
    {
     "data": {
      "text/plain": [
       "9.486471646771386e-11"
      ]
     },
     "execution_count": 547,
     "metadata": {},
     "output_type": "execute_result"
    }
   ],
   "source": [
    "2725054080/28725686234749264000"
   ]
  },
  {
   "cell_type": "code",
   "execution_count": 531,
   "metadata": {},
   "outputs": [
    {
     "data": {
      "text/plain": [
       "1.0"
      ]
     },
     "execution_count": 531,
     "metadata": {},
     "output_type": "execute_result"
    }
   ],
   "source": [
    "(newDebt + totalPyTokens)/totalPyTokens"
   ]
  },
  {
   "cell_type": "code",
   "execution_count": 532,
   "metadata": {},
   "outputs": [],
   "source": [
    "debtRate = 1.0000000000316216 * 10**27\n",
    "time = 3\n",
    "debtAccumulator = 1.0000000007304584 * 10**27"
   ]
  },
  {
   "cell_type": "code",
   "execution_count": 533,
   "metadata": {},
   "outputs": [
    {
     "data": {
      "text/plain": [
       "3.1621542097977344e+16"
      ]
     },
     "execution_count": 533,
     "metadata": {},
     "output_type": "execute_result"
    }
   ],
   "source": [
    "debtRate - 10**27"
   ]
  },
  {
   "cell_type": "code",
   "execution_count": 534,
   "metadata": {},
   "outputs": [
    {
     "data": {
      "text/plain": [
       "1.0000000000948646e+27"
      ]
     },
     "execution_count": 534,
     "metadata": {},
     "output_type": "execute_result"
    }
   ],
   "source": [
    "adim = 10**27 + (debtRate - 10**27) * 3\n",
    "adim"
   ]
  },
  {
   "cell_type": "code",
   "execution_count": 535,
   "metadata": {},
   "outputs": [
    {
     "data": {
      "text/plain": [
       "1.000000000825323e+27"
      ]
     },
     "execution_count": 535,
     "metadata": {},
     "output_type": "execute_result"
    }
   ],
   "source": [
    "(adim * debtAccumulator)/10**27"
   ]
  },
  {
   "cell_type": "code",
   "execution_count": 536,
   "metadata": {},
   "outputs": [
    {
     "data": {
      "text/plain": [
       "1e+27"
      ]
     },
     "execution_count": 536,
     "metadata": {},
     "output_type": "execute_result"
    }
   ],
   "source": [
    "((newDebt + totalPyTokens) * 10**27)/totalPyTokens"
   ]
  },
  {
   "cell_type": "code",
   "execution_count": 537,
   "metadata": {},
   "outputs": [
    {
     "data": {
      "text/plain": [
       "56538743.858507656"
      ]
     },
     "execution_count": 537,
     "metadata": {},
     "output_type": "execute_result"
    }
   ],
   "source": [
    "(newDebt * 10**27)/totalPyTokens"
   ]
  },
  {
   "cell_type": "code",
   "execution_count": 538,
   "metadata": {},
   "outputs": [
    {
     "data": {
      "text/plain": [
       "1.0"
      ]
     },
     "execution_count": 538,
     "metadata": {},
     "output_type": "execute_result"
    }
   ],
   "source": [
    "(newDebt + totalPyTokens) / totalPyTokens"
   ]
  },
  {
   "cell_type": "code",
   "execution_count": 542,
   "metadata": {},
   "outputs": [
    {
     "data": {
      "text/plain": [
       "9.999999999999999e+26"
      ]
     },
     "execution_count": 542,
     "metadata": {},
     "output_type": "execute_result"
    }
   ],
   "source": [
    "((newDebt + totalPyTokens) * 10**27)/(totalSupply * 10**9)"
   ]
  },
  {
   "cell_type": "code",
   "execution_count": 543,
   "metadata": {},
   "outputs": [
    {
     "data": {
      "text/plain": [
       "9.999999999999999e+26"
      ]
     },
     "execution_count": 543,
     "metadata": {},
     "output_type": "execute_result"
    }
   ],
   "source": [
    "((totalPyTokens) * 10**27)/(totalSupply * 10**9)"
   ]
  },
  {
   "cell_type": "code",
   "execution_count": 745,
   "metadata": {},
   "outputs": [
    {
     "data": {
      "text/plain": [
       "Decimal('2.748647164392323819814213514E-11')"
      ]
     },
     "execution_count": 745,
     "metadata": {},
     "output_type": "execute_result"
    }
   ],
   "source": [
    "Decimal(2451842007066141700) / Decimal(8.920177310601449 * 10**28)"
   ]
  },
  {
   "cell_type": "code",
   "execution_count": null,
   "metadata": {},
   "outputs": [],
   "source": [
    "1.0000000060286995e+27\n",
    "1.0000000041346233e+27"
   ]
  }
 ],
 "metadata": {
  "kernelspec": {
   "display_name": "Python 3",
   "language": "python",
   "name": "python3"
  },
  "language_info": {
   "codemirror_mode": {
    "name": "ipython",
    "version": 3
   },
   "file_extension": ".py",
   "mimetype": "text/x-python",
   "name": "python",
   "nbconvert_exporter": "python",
   "pygments_lexer": "ipython3",
   "version": "3.7.6"
  }
 },
 "nbformat": 4,
 "nbformat_minor": 4
}
